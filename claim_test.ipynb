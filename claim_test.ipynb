{
  "cells": [
    {
      "cell_type": "markdown",
      "metadata": {
        "id": "view-in-github",
        "colab_type": "text"
      },
      "source": [
        "<a href=\"https://colab.research.google.com/github/yunbin03/AI-model-to-detect-medical-ins-urance-fraud/blob/main/claim_test.ipynb\" target=\"_parent\"><img src=\"https://colab.research.google.com/assets/colab-badge.svg\" alt=\"Open In Colab\"/></a>"
      ]
    },
    {
      "cell_type": "code",
      "execution_count": null,
      "metadata": {
        "colab": {
          "base_uri": "https://localhost:8080/"
        },
        "id": "3m-088M_qnD8",
        "outputId": "3841af2a-79ea-4014-9b3d-47d81e89b296"
      },
      "outputs": [
        {
          "output_type": "stream",
          "name": "stdout",
          "text": [
            "Requirement already satisfied: pandas in /usr/local/lib/python3.10/dist-packages (2.2.2)\n",
            "Requirement already satisfied: matplotlib in /usr/local/lib/python3.10/dist-packages (3.8.0)\n",
            "Requirement already satisfied: seaborn in /usr/local/lib/python3.10/dist-packages (0.13.2)\n",
            "Requirement already satisfied: scikit-learn in /usr/local/lib/python3.10/dist-packages (1.5.2)\n",
            "Requirement already satisfied: xgboost in /usr/local/lib/python3.10/dist-packages (2.1.3)\n",
            "Requirement already satisfied: imbalanced-learn in /usr/local/lib/python3.10/dist-packages (0.12.4)\n",
            "Requirement already satisfied: kaggle in /usr/local/lib/python3.10/dist-packages (1.6.17)\n",
            "Requirement already satisfied: numpy in /usr/local/lib/python3.10/dist-packages (1.26.4)\n",
            "Requirement already satisfied: python-dateutil>=2.8.2 in /usr/local/lib/python3.10/dist-packages (from pandas) (2.8.2)\n",
            "Requirement already satisfied: pytz>=2020.1 in /usr/local/lib/python3.10/dist-packages (from pandas) (2024.2)\n",
            "Requirement already satisfied: tzdata>=2022.7 in /usr/local/lib/python3.10/dist-packages (from pandas) (2024.2)\n",
            "Requirement already satisfied: contourpy>=1.0.1 in /usr/local/lib/python3.10/dist-packages (from matplotlib) (1.3.1)\n",
            "Requirement already satisfied: cycler>=0.10 in /usr/local/lib/python3.10/dist-packages (from matplotlib) (0.12.1)\n",
            "Requirement already satisfied: fonttools>=4.22.0 in /usr/local/lib/python3.10/dist-packages (from matplotlib) (4.55.1)\n",
            "Requirement already satisfied: kiwisolver>=1.0.1 in /usr/local/lib/python3.10/dist-packages (from matplotlib) (1.4.7)\n",
            "Requirement already satisfied: packaging>=20.0 in /usr/local/lib/python3.10/dist-packages (from matplotlib) (24.2)\n",
            "Requirement already satisfied: pillow>=6.2.0 in /usr/local/lib/python3.10/dist-packages (from matplotlib) (11.0.0)\n",
            "Requirement already satisfied: pyparsing>=2.3.1 in /usr/local/lib/python3.10/dist-packages (from matplotlib) (3.2.0)\n",
            "Requirement already satisfied: scipy>=1.6.0 in /usr/local/lib/python3.10/dist-packages (from scikit-learn) (1.13.1)\n",
            "Requirement already satisfied: joblib>=1.2.0 in /usr/local/lib/python3.10/dist-packages (from scikit-learn) (1.4.2)\n",
            "Requirement already satisfied: threadpoolctl>=3.1.0 in /usr/local/lib/python3.10/dist-packages (from scikit-learn) (3.5.0)\n",
            "Requirement already satisfied: nvidia-nccl-cu12 in /usr/local/lib/python3.10/dist-packages (from xgboost) (2.23.4)\n",
            "Requirement already satisfied: six>=1.10 in /usr/local/lib/python3.10/dist-packages (from kaggle) (1.16.0)\n",
            "Requirement already satisfied: certifi>=2023.7.22 in /usr/local/lib/python3.10/dist-packages (from kaggle) (2024.8.30)\n",
            "Requirement already satisfied: requests in /usr/local/lib/python3.10/dist-packages (from kaggle) (2.32.3)\n",
            "Requirement already satisfied: tqdm in /usr/local/lib/python3.10/dist-packages (from kaggle) (4.66.6)\n",
            "Requirement already satisfied: python-slugify in /usr/local/lib/python3.10/dist-packages (from kaggle) (8.0.4)\n",
            "Requirement already satisfied: urllib3 in /usr/local/lib/python3.10/dist-packages (from kaggle) (2.2.3)\n",
            "Requirement already satisfied: bleach in /usr/local/lib/python3.10/dist-packages (from kaggle) (6.2.0)\n",
            "Requirement already satisfied: webencodings in /usr/local/lib/python3.10/dist-packages (from bleach->kaggle) (0.5.1)\n",
            "Requirement already satisfied: text-unidecode>=1.3 in /usr/local/lib/python3.10/dist-packages (from python-slugify->kaggle) (1.3)\n",
            "Requirement already satisfied: charset-normalizer<4,>=2 in /usr/local/lib/python3.10/dist-packages (from requests->kaggle) (3.4.0)\n",
            "Requirement already satisfied: idna<4,>=2.5 in /usr/local/lib/python3.10/dist-packages (from requests->kaggle) (3.10)\n"
          ]
        }
      ],
      "source": [
        "# 코랩 환경 초기 설정 // !pip는 필요한 특정 라이브러리를 설치하는 명령어\n",
        "!pip install pandas matplotlib seaborn scikit-learn xgboost imbalanced-learn  kaggle numpy\n",
        "\n",
        "# 필수 라이브러리 임포트\n",
        "import pandas as pd\n",
        "import numpy as np\n",
        "import matplotlib.pyplot as plt\n",
        "import seaborn as sns\n",
        "from sklearn.model_selection import train_test_split # 학습용 데이터랑 테스트용 데이터랑 나누는 작업, 과적합 방지를 위함\n",
        "from sklearn.metrics import classification_report, confusion_matrix, accuracy_score # 모델 성능을 텍스트 형식으로 보여주는 것\n",
        "#오버샘플링\n",
        "from imblearn.over_sampling import SMOTE\n",
        "from sklearn.preprocessing import StandardScaler # 데이터 값들끼리 차이가 클 때 스케일링으로 규모 차이를 줄여주는 역할하는 것\n",
        "from sklearn.preprocessing import MinMaxScaler\n",
        "\n",
        "from sklearn.preprocessing import Normalizer\n",
        "from sklearn.decomposition import PCA\n",
        "\n",
        "import warnings\n",
        "warnings.filterwarnings('ignore')"
      ]
    },
    {
      "cell_type": "code",
      "execution_count": null,
      "metadata": {
        "colab": {
          "base_uri": "https://localhost:8080/"
        },
        "id": "viSI-B00QDEp",
        "outputId": "fd938325-f901-43fa-c474-37db06bf14b4"
      },
      "outputs": [
        {
          "output_type": "stream",
          "name": "stdout",
          "text": [
            "Mounted at /content/drive\n"
          ]
        }
      ],
      "source": [
        "# 데이터셋 CSV 파일 읽기 // df: 데이터 프레임의 약자 그리고 이건 테이블 형식이다. 데이터 읽기는 테이블형식으로 가능함\n",
        "#df = pd.read_csv(\"medical_aid_claims.csv\",  sep = \",\")\n",
        "\n",
        "# 드라이브에서 데이터 가져오기\n",
        "from google.colab import drive\n",
        "drive.mount('/content/drive')\n",
        "\n",
        "df=pd.read_csv('/content/drive/MyDrive/medical_aid_claims.csv')\n"
      ]
    },
    {
      "cell_type": "code",
      "execution_count": null,
      "metadata": {
        "colab": {
          "base_uri": "https://localhost:8080/"
        },
        "id": "ZkZ6VgM_Pfkh",
        "outputId": "e4e9e724-828e-4185-c331-fa19e0d5ff7c"
      },
      "outputs": [
        {
          "output_type": "execute_result",
          "data": {
            "text/plain": [
              "(7000, 15)"
            ]
          },
          "metadata": {},
          "execution_count": 6
        }
      ],
      "source": [
        "df.shape # 데이터 크기 알기\n",
        "# df.head() # 데이터 상위 3줄 보여주기"
      ]
    },
    {
      "cell_type": "code",
      "execution_count": null,
      "metadata": {
        "colab": {
          "base_uri": "https://localhost:8080/",
          "height": 554
        },
        "id": "dZ0b2-xtqyrP",
        "outputId": "ed49e248-87fa-441c-9507-d7ef9376282e"
      },
      "outputs": [
        {
          "output_type": "execute_result",
          "data": {
            "text/plain": [
              "member-name             0\n",
              "email                   0\n",
              "gender                  0\n",
              "location                0\n",
              "employer                0\n",
              "relationship            0\n",
              "patient_name            0\n",
              "patient_suffix          0\n",
              "patient_dob             0\n",
              "cause                   0\n",
              "Fee Charged             0\n",
              "membership_period       0\n",
              "number_of_claims        0\n",
              "number_of_dependants    0\n",
              "label                   0\n",
              "dtype: int64"
            ],
            "text/html": [
              "<div>\n",
              "<style scoped>\n",
              "    .dataframe tbody tr th:only-of-type {\n",
              "        vertical-align: middle;\n",
              "    }\n",
              "\n",
              "    .dataframe tbody tr th {\n",
              "        vertical-align: top;\n",
              "    }\n",
              "\n",
              "    .dataframe thead th {\n",
              "        text-align: right;\n",
              "    }\n",
              "</style>\n",
              "<table border=\"1\" class=\"dataframe\">\n",
              "  <thead>\n",
              "    <tr style=\"text-align: right;\">\n",
              "      <th></th>\n",
              "      <th>0</th>\n",
              "    </tr>\n",
              "  </thead>\n",
              "  <tbody>\n",
              "    <tr>\n",
              "      <th>member-name</th>\n",
              "      <td>0</td>\n",
              "    </tr>\n",
              "    <tr>\n",
              "      <th>email</th>\n",
              "      <td>0</td>\n",
              "    </tr>\n",
              "    <tr>\n",
              "      <th>gender</th>\n",
              "      <td>0</td>\n",
              "    </tr>\n",
              "    <tr>\n",
              "      <th>location</th>\n",
              "      <td>0</td>\n",
              "    </tr>\n",
              "    <tr>\n",
              "      <th>employer</th>\n",
              "      <td>0</td>\n",
              "    </tr>\n",
              "    <tr>\n",
              "      <th>relationship</th>\n",
              "      <td>0</td>\n",
              "    </tr>\n",
              "    <tr>\n",
              "      <th>patient_name</th>\n",
              "      <td>0</td>\n",
              "    </tr>\n",
              "    <tr>\n",
              "      <th>patient_suffix</th>\n",
              "      <td>0</td>\n",
              "    </tr>\n",
              "    <tr>\n",
              "      <th>patient_dob</th>\n",
              "      <td>0</td>\n",
              "    </tr>\n",
              "    <tr>\n",
              "      <th>cause</th>\n",
              "      <td>0</td>\n",
              "    </tr>\n",
              "    <tr>\n",
              "      <th>Fee Charged</th>\n",
              "      <td>0</td>\n",
              "    </tr>\n",
              "    <tr>\n",
              "      <th>membership_period</th>\n",
              "      <td>0</td>\n",
              "    </tr>\n",
              "    <tr>\n",
              "      <th>number_of_claims</th>\n",
              "      <td>0</td>\n",
              "    </tr>\n",
              "    <tr>\n",
              "      <th>number_of_dependants</th>\n",
              "      <td>0</td>\n",
              "    </tr>\n",
              "    <tr>\n",
              "      <th>label</th>\n",
              "      <td>0</td>\n",
              "    </tr>\n",
              "  </tbody>\n",
              "</table>\n",
              "</div><br><label><b>dtype:</b> int64</label>"
            ]
          },
          "metadata": {},
          "execution_count": 7
        }
      ],
      "source": [
        "# 결측값 찾기\n",
        "df.isna().sum()"
      ]
    },
    {
      "cell_type": "code",
      "execution_count": null,
      "metadata": {
        "colab": {
          "base_uri": "https://localhost:8080/"
        },
        "id": "yVOMifCm0LhL",
        "outputId": "348a9f03-5695-4acf-dfaa-09a9d88976c7"
      },
      "outputs": [
        {
          "output_type": "stream",
          "name": "stdout",
          "text": [
            "member-name\n",
            "Konde          318\n",
            "Sithole        314\n",
            "Gweta          313\n",
            "Evans          306\n",
            "Sibanda        303\n",
            "Chisa          302\n",
            "Chipi          298\n",
            "Chisa Chisi    297\n",
            "Chiri          295\n",
            "Femba          293\n",
            "Geta           292\n",
            "Dihwa          290\n",
            "Tichaona       290\n",
            "Mabhena        289\n",
            "Moyo           285\n",
            "Mirwa          284\n",
            "Nyoni          283\n",
            "Peterson       283\n",
            "Foto           282\n",
            "Jembwa         281\n",
            "Gute           281\n",
            "Samvura        275\n",
            "Gura           275\n",
            "Bima           271\n",
            "Name: count, dtype: int64\n",
            "email\n",
            "ajimmison0@sun.com              1\n",
            "bastonif@geocities.com          1\n",
            "smcmoniesiq@biblegateway.com    1\n",
            "mhalewoodip@phoca.cz            1\n",
            "rplumbleyio@usda.gov            1\n",
            "                               ..\n",
            "gmorlon95@economist.com         1\n",
            "mforster94@newyorker.com        1\n",
            "jmatson93@ning.com              1\n",
            "pfenemore92@facebook.com        1\n",
            "wlantrr@quantcast.com           1\n",
            "Name: count, Length: 7000, dtype: int64\n",
            "gender\n",
            "male      3584\n",
            "female    3416\n",
            "Name: count, dtype: int64\n",
            "location\n",
            "Marondera    625\n",
            "Bindura      611\n",
            "Rusape       607\n",
            "Kwekwe       601\n",
            "Gweru        592\n",
            "Nyanga       589\n",
            "Mutare       578\n",
            "Harare       576\n",
            "Bulawayo     563\n",
            "Kadoma       558\n",
            "Masvingo     553\n",
            "Gwanda       547\n",
            "Name: count, dtype: int64\n",
            "employer\n",
            "Youspan         50\n",
            "Realcube        46\n",
            "Thoughtstorm    42\n",
            "Meevee          38\n",
            "Jayo            38\n",
            "                ..\n",
            "Skyble           9\n",
            "Fivebridge       8\n",
            "Linkbridge       8\n",
            "DabZ             7\n",
            "Minyx            7\n",
            "Name: count, Length: 383, dtype: int64\n",
            "relationship\n",
            "Brother        981\n",
            "Mother         529\n",
            "Sister         529\n",
            "Father         522\n",
            "Grandmother    519\n",
            "Wife           514\n",
            "Husband        510\n",
            "Uncle          510\n",
            "Grandfather    502\n",
            "Daughter       485\n",
            "Aunt           480\n",
            "Nepfew         467\n",
            "Niece          452\n",
            "Name: count, dtype: int64\n",
            "patient_name\n",
            "Mabhena        327\n",
            "Gweta          326\n",
            "Chipi          314\n",
            "Nyoni          312\n",
            "Mirwa          311\n",
            "Chisa Chisi    306\n",
            "Sithole        300\n",
            "Bima           298\n",
            "Evans          296\n",
            "Foto           293\n",
            "Dihwa          293\n",
            "Konde          291\n",
            "Chiri          290\n",
            "Sibanda        289\n",
            "Jembwa         288\n",
            "Femba          285\n",
            "Samvura        280\n",
            "Tichaona       280\n",
            "Moyo           278\n",
            "Peterson       278\n",
            "Geta           271\n",
            "Gura           270\n",
            "Gute           268\n",
            "Chisa          256\n",
            "Name: count, dtype: int64\n",
            "patient_suffix\n",
            "998    18\n",
            "925    16\n",
            "294    15\n",
            "124    15\n",
            "244    15\n",
            "       ..\n",
            "593     1\n",
            "271     1\n",
            "423     1\n",
            "370     1\n",
            "845     1\n",
            "Name: count, Length: 899, dtype: int64\n",
            "patient_dob\n",
            "6/1/1997     5\n",
            "4/2/1987     4\n",
            "10/5/1989    4\n",
            "1/31/2009    4\n",
            "3/10/1992    4\n",
            "            ..\n",
            "6/23/1984    1\n",
            "1/11/1996    1\n",
            "2/20/1970    1\n",
            "9/3/2000     1\n",
            "3/21/2003    1\n",
            "Name: count, Length: 5662, dtype: int64\n",
            "cause\n",
            "Road Traffic Accident    1780\n",
            "Accident At Home         1744\n",
            "Other                    1743\n",
            "Accident At Work         1733\n",
            "Name: count, dtype: int64\n",
            "Fee Charged\n",
            "15804    3\n",
            "4230     3\n",
            "32416    3\n",
            "46113    3\n",
            "34667    3\n",
            "        ..\n",
            "42745    1\n",
            "19627    1\n",
            "48146    1\n",
            "39453    1\n",
            "29020    1\n",
            "Name: count, Length: 6544, dtype: int64\n",
            "membership_period\n",
            "7768    6\n",
            "4771    5\n",
            "7474    5\n",
            "1896    5\n",
            "3611    5\n",
            "       ..\n",
            "1445    1\n",
            "422     1\n",
            "5726    1\n",
            "4311    1\n",
            "8293    1\n",
            "Name: count, Length: 4847, dtype: int64\n",
            "number_of_claims\n",
            "1    1214\n",
            "2    1202\n",
            "3    1186\n",
            "4    1154\n",
            "6    1124\n",
            "5    1120\n",
            "Name: count, dtype: int64\n",
            "number_of_dependants\n",
            "1    1804\n",
            "2    1749\n",
            "3    1737\n",
            "4    1710\n",
            "Name: count, dtype: int64\n",
            "label\n",
            "0    5621\n",
            "1    1379\n",
            "Name: count, dtype: int64\n"
          ]
        }
      ],
      "source": [
        "# 칼럼에 있는 값들 개수\n",
        "for _ in df.columns:\n",
        "  print(df[_].value_counts())"
      ]
    },
    {
      "cell_type": "code",
      "execution_count": null,
      "metadata": {
        "id": "XuHWENtK0gfz"
      },
      "outputs": [],
      "source": [
        "# --- 데이터 전처리 ---\n",
        "# 'patient_dob'\n",
        "from datetime import datetime\n",
        "df['age'] = datetime.now().year - pd.to_datetime(df['patient_dob']).dt.year\n",
        "\n",
        "# 'Fee Charged'를 'fee_charged'로 변경\n",
        "df = df.rename(columns={'Fee Charged': 'fee_charged'})\n",
        "\n",
        "# 학습에 사용할 특징 선택\n",
        "#features = ['gender', 'location', 'age', 'cause', 'Fee Charged', 'membership_period', 'number_of_claims', 'number_of_dependants']\n",
        "# location제거\n",
        "features = ['gender', 'age', 'cause', 'fee_charged', 'membership_period', 'number_of_claims', 'number_of_dependants']\n",
        "\n",
        "# 원-핫 인코딩으로 범주형 변수 처리 // 성별, 지역, 병명은 문자열 데이터로 원핫 인코딩을 통해 숫자형 데이터로 변경해주기\n",
        "X = df[features] # X값에 특징 저장\n",
        "#X = pd.get_dummies(X, columns=['gender', 'location', 'cause'], drop_first=True)\n",
        "X = pd.get_dummies(X, columns=['gender', 'cause'], drop_first=True)\n",
        "\n",
        "# Y값에 사기여부를 저장\n",
        "y = df['label']\n",
        "\n",
        "#이상치\n",
        "def get_outlier(df=None, column=None, weight=1.5):\n",
        "    # target 값과 상관관계가 높은 열을 우선적으로 진행\n",
        "    quantile_25 = np.percentile(df[column].values,25)\n",
        "    quantile_75 = np.percentile(df[column].values,75)\n",
        "\n",
        "    IQR = quantile_75 - quantile_25\n",
        "    IQR_weight = IQR*weight\n",
        "    lowest = quantile_25 - IQR_weight\n",
        "    highest = quantile_75 + IQR_weight\n",
        "\n",
        "    outlier_idx = df[column][(df[column] < lowest) | (df[column] > highest)].index\n",
        "    return outlier_idx\n",
        "\n",
        "    outlier_idx = get_outlier(df=df, column='Fee Charged', weight=1.5)\n",
        "    df.drop(outlier_idx, axis=0, inplace=True)\n",
        "\n",
        "# 데이터 분할 // 80%는 학습용, 20%는 테스트용으로 분할하여 과적합 방지 random_state=42\n",
        "X_train, X_test, y_train, y_test = train_test_split(X, y, test_size=0.2, random_state=121)\n",
        "\n",
        "# Scaling using StandardScaler\n",
        "scaler = StandardScaler()\n",
        "X_train_scaled = scaler.fit_transform(X_train)\n",
        "X_test_scaled = scaler.transform(X_test)\n",
        "\n",
        "# Scaling using MinMaxScaler\n",
        "minmax_scale = MinMaxScaler()\n",
        "X_train_scaled = minmax_scale.fit_transform(X_train)\n",
        "X_test_scaled = minmax_scale.transform(X_test)\n",
        "\n",
        "# 2-dimensional reduction principal component analysis pca\n",
        "pca = PCA(n_components=2)\n",
        "pca.fit(X_train_scaled)\n",
        "pca.fit(X_test_scaled)\n",
        "X_train_pca = pca.fit_transform(X_train_scaled)\n",
        "X_test_pca = pca.transform(X_test_scaled)\n",
        "\n",
        "#print(X_train_pca.shape)\n",
        "#print(X_test_pca.shape)\n"
      ]
    },
    {
      "cell_type": "code",
      "source": [
        "X_train_scaled.shape"
      ],
      "metadata": {
        "colab": {
          "base_uri": "https://localhost:8080/"
        },
        "id": "agEWaPsR6c-K",
        "outputId": "5717e4a3-806f-4f59-869a-907e8825b0ef"
      },
      "execution_count": null,
      "outputs": [
        {
          "output_type": "execute_result",
          "data": {
            "text/plain": [
              "(5600, 9)"
            ]
          },
          "metadata": {},
          "execution_count": 10
        }
      ]
    },
    {
      "cell_type": "code",
      "source": [
        "# 데이터 불균형 해소 (사기 청구 데이터 수가 너무 적어서)\n",
        "smote = SMOTE(random_state=42)\n",
        "X_train_resampled, y_train_resampled = smote.fit_resample(X_train, y_train)\n",
        "\n",
        "#df[features] # 사용할 데이터 열만 가지고 테이블화\n"
      ],
      "metadata": {
        "id": "WvnBiGYciupN"
      },
      "execution_count": null,
      "outputs": []
    },
    {
      "cell_type": "code",
      "execution_count": null,
      "metadata": {
        "colab": {
          "base_uri": "https://localhost:8080/",
          "height": 330
        },
        "id": "DfvRkNkPK0-j",
        "outputId": "b4a26db2-8a78-41a0-9803-4aa83905f3f3"
      },
      "outputs": [
        {
          "output_type": "execute_result",
          "data": {
            "text/plain": [
              "  member-name                     email  gender   location   employer  \\\n",
              "0       Chipi        ajimmison0@sun.com  female     Kwekwe       Vipe   \n",
              "1       Femba     rsoonhouse1@google.it  female  Marondera       Mudo   \n",
              "2        Geta  bchecchetelli2@house.gov  female     Rusape     Skaboo   \n",
              "3    Tichaona          mgarman3@psu.edu  female     Rusape  Babbleset   \n",
              "4       Chisa     ccough4@biglobe.ne.jp  female   Bulawayo   Flipopia   \n",
              "\n",
              "  relationship patient_name  patient_suffix patient_dob  \\\n",
              "0  Grandfather      Mabhena             789   9/11/1997   \n",
              "1      Husband      Sithole             860   1/14/1992   \n",
              "2       Mother        Chipi             374    7/3/1999   \n",
              "3       Father       Jembwa             729   7/31/1978   \n",
              "4       Father         Foto             716  12/28/1992   \n",
              "\n",
              "                   cause  fee_charged  membership_period  number_of_claims  \\\n",
              "0                  Other         3798               1541                 2   \n",
              "1                  Other        48905               8269                 4   \n",
              "2  Road Traffic Accident        39963               6223                 2   \n",
              "3  Road Traffic Accident        34948               8832                 6   \n",
              "4       Accident At Work        46984               8804                 1   \n",
              "\n",
              "   number_of_dependants  label  age  \n",
              "0                     4      0   27  \n",
              "1                     3      0   32  \n",
              "2                     2      0   25  \n",
              "3                     3      0   46  \n",
              "4                     2      1   32  "
            ],
            "text/html": [
              "\n",
              "  <div id=\"df-177362ec-31e7-4e0b-a333-4c761b801ba6\" class=\"colab-df-container\">\n",
              "    <div>\n",
              "<style scoped>\n",
              "    .dataframe tbody tr th:only-of-type {\n",
              "        vertical-align: middle;\n",
              "    }\n",
              "\n",
              "    .dataframe tbody tr th {\n",
              "        vertical-align: top;\n",
              "    }\n",
              "\n",
              "    .dataframe thead th {\n",
              "        text-align: right;\n",
              "    }\n",
              "</style>\n",
              "<table border=\"1\" class=\"dataframe\">\n",
              "  <thead>\n",
              "    <tr style=\"text-align: right;\">\n",
              "      <th></th>\n",
              "      <th>member-name</th>\n",
              "      <th>email</th>\n",
              "      <th>gender</th>\n",
              "      <th>location</th>\n",
              "      <th>employer</th>\n",
              "      <th>relationship</th>\n",
              "      <th>patient_name</th>\n",
              "      <th>patient_suffix</th>\n",
              "      <th>patient_dob</th>\n",
              "      <th>cause</th>\n",
              "      <th>fee_charged</th>\n",
              "      <th>membership_period</th>\n",
              "      <th>number_of_claims</th>\n",
              "      <th>number_of_dependants</th>\n",
              "      <th>label</th>\n",
              "      <th>age</th>\n",
              "    </tr>\n",
              "  </thead>\n",
              "  <tbody>\n",
              "    <tr>\n",
              "      <th>0</th>\n",
              "      <td>Chipi</td>\n",
              "      <td>ajimmison0@sun.com</td>\n",
              "      <td>female</td>\n",
              "      <td>Kwekwe</td>\n",
              "      <td>Vipe</td>\n",
              "      <td>Grandfather</td>\n",
              "      <td>Mabhena</td>\n",
              "      <td>789</td>\n",
              "      <td>9/11/1997</td>\n",
              "      <td>Other</td>\n",
              "      <td>3798</td>\n",
              "      <td>1541</td>\n",
              "      <td>2</td>\n",
              "      <td>4</td>\n",
              "      <td>0</td>\n",
              "      <td>27</td>\n",
              "    </tr>\n",
              "    <tr>\n",
              "      <th>1</th>\n",
              "      <td>Femba</td>\n",
              "      <td>rsoonhouse1@google.it</td>\n",
              "      <td>female</td>\n",
              "      <td>Marondera</td>\n",
              "      <td>Mudo</td>\n",
              "      <td>Husband</td>\n",
              "      <td>Sithole</td>\n",
              "      <td>860</td>\n",
              "      <td>1/14/1992</td>\n",
              "      <td>Other</td>\n",
              "      <td>48905</td>\n",
              "      <td>8269</td>\n",
              "      <td>4</td>\n",
              "      <td>3</td>\n",
              "      <td>0</td>\n",
              "      <td>32</td>\n",
              "    </tr>\n",
              "    <tr>\n",
              "      <th>2</th>\n",
              "      <td>Geta</td>\n",
              "      <td>bchecchetelli2@house.gov</td>\n",
              "      <td>female</td>\n",
              "      <td>Rusape</td>\n",
              "      <td>Skaboo</td>\n",
              "      <td>Mother</td>\n",
              "      <td>Chipi</td>\n",
              "      <td>374</td>\n",
              "      <td>7/3/1999</td>\n",
              "      <td>Road Traffic Accident</td>\n",
              "      <td>39963</td>\n",
              "      <td>6223</td>\n",
              "      <td>2</td>\n",
              "      <td>2</td>\n",
              "      <td>0</td>\n",
              "      <td>25</td>\n",
              "    </tr>\n",
              "    <tr>\n",
              "      <th>3</th>\n",
              "      <td>Tichaona</td>\n",
              "      <td>mgarman3@psu.edu</td>\n",
              "      <td>female</td>\n",
              "      <td>Rusape</td>\n",
              "      <td>Babbleset</td>\n",
              "      <td>Father</td>\n",
              "      <td>Jembwa</td>\n",
              "      <td>729</td>\n",
              "      <td>7/31/1978</td>\n",
              "      <td>Road Traffic Accident</td>\n",
              "      <td>34948</td>\n",
              "      <td>8832</td>\n",
              "      <td>6</td>\n",
              "      <td>3</td>\n",
              "      <td>0</td>\n",
              "      <td>46</td>\n",
              "    </tr>\n",
              "    <tr>\n",
              "      <th>4</th>\n",
              "      <td>Chisa</td>\n",
              "      <td>ccough4@biglobe.ne.jp</td>\n",
              "      <td>female</td>\n",
              "      <td>Bulawayo</td>\n",
              "      <td>Flipopia</td>\n",
              "      <td>Father</td>\n",
              "      <td>Foto</td>\n",
              "      <td>716</td>\n",
              "      <td>12/28/1992</td>\n",
              "      <td>Accident At Work</td>\n",
              "      <td>46984</td>\n",
              "      <td>8804</td>\n",
              "      <td>1</td>\n",
              "      <td>2</td>\n",
              "      <td>1</td>\n",
              "      <td>32</td>\n",
              "    </tr>\n",
              "  </tbody>\n",
              "</table>\n",
              "</div>\n",
              "    <div class=\"colab-df-buttons\">\n",
              "\n",
              "  <div class=\"colab-df-container\">\n",
              "    <button class=\"colab-df-convert\" onclick=\"convertToInteractive('df-177362ec-31e7-4e0b-a333-4c761b801ba6')\"\n",
              "            title=\"Convert this dataframe to an interactive table.\"\n",
              "            style=\"display:none;\">\n",
              "\n",
              "  <svg xmlns=\"http://www.w3.org/2000/svg\" height=\"24px\" viewBox=\"0 -960 960 960\">\n",
              "    <path d=\"M120-120v-720h720v720H120Zm60-500h600v-160H180v160Zm220 220h160v-160H400v160Zm0 220h160v-160H400v160ZM180-400h160v-160H180v160Zm440 0h160v-160H620v160ZM180-180h160v-160H180v160Zm440 0h160v-160H620v160Z\"/>\n",
              "  </svg>\n",
              "    </button>\n",
              "\n",
              "  <style>\n",
              "    .colab-df-container {\n",
              "      display:flex;\n",
              "      gap: 12px;\n",
              "    }\n",
              "\n",
              "    .colab-df-convert {\n",
              "      background-color: #E8F0FE;\n",
              "      border: none;\n",
              "      border-radius: 50%;\n",
              "      cursor: pointer;\n",
              "      display: none;\n",
              "      fill: #1967D2;\n",
              "      height: 32px;\n",
              "      padding: 0 0 0 0;\n",
              "      width: 32px;\n",
              "    }\n",
              "\n",
              "    .colab-df-convert:hover {\n",
              "      background-color: #E2EBFA;\n",
              "      box-shadow: 0px 1px 2px rgba(60, 64, 67, 0.3), 0px 1px 3px 1px rgba(60, 64, 67, 0.15);\n",
              "      fill: #174EA6;\n",
              "    }\n",
              "\n",
              "    .colab-df-buttons div {\n",
              "      margin-bottom: 4px;\n",
              "    }\n",
              "\n",
              "    [theme=dark] .colab-df-convert {\n",
              "      background-color: #3B4455;\n",
              "      fill: #D2E3FC;\n",
              "    }\n",
              "\n",
              "    [theme=dark] .colab-df-convert:hover {\n",
              "      background-color: #434B5C;\n",
              "      box-shadow: 0px 1px 3px 1px rgba(0, 0, 0, 0.15);\n",
              "      filter: drop-shadow(0px 1px 2px rgba(0, 0, 0, 0.3));\n",
              "      fill: #FFFFFF;\n",
              "    }\n",
              "  </style>\n",
              "\n",
              "    <script>\n",
              "      const buttonEl =\n",
              "        document.querySelector('#df-177362ec-31e7-4e0b-a333-4c761b801ba6 button.colab-df-convert');\n",
              "      buttonEl.style.display =\n",
              "        google.colab.kernel.accessAllowed ? 'block' : 'none';\n",
              "\n",
              "      async function convertToInteractive(key) {\n",
              "        const element = document.querySelector('#df-177362ec-31e7-4e0b-a333-4c761b801ba6');\n",
              "        const dataTable =\n",
              "          await google.colab.kernel.invokeFunction('convertToInteractive',\n",
              "                                                    [key], {});\n",
              "        if (!dataTable) return;\n",
              "\n",
              "        const docLinkHtml = 'Like what you see? Visit the ' +\n",
              "          '<a target=\"_blank\" href=https://colab.research.google.com/notebooks/data_table.ipynb>data table notebook</a>'\n",
              "          + ' to learn more about interactive tables.';\n",
              "        element.innerHTML = '';\n",
              "        dataTable['output_type'] = 'display_data';\n",
              "        await google.colab.output.renderOutput(dataTable, element);\n",
              "        const docLink = document.createElement('div');\n",
              "        docLink.innerHTML = docLinkHtml;\n",
              "        element.appendChild(docLink);\n",
              "      }\n",
              "    </script>\n",
              "  </div>\n",
              "\n",
              "\n",
              "<div id=\"df-6df1549d-0955-486e-839a-b1efe34a14f5\">\n",
              "  <button class=\"colab-df-quickchart\" onclick=\"quickchart('df-6df1549d-0955-486e-839a-b1efe34a14f5')\"\n",
              "            title=\"Suggest charts\"\n",
              "            style=\"display:none;\">\n",
              "\n",
              "<svg xmlns=\"http://www.w3.org/2000/svg\" height=\"24px\"viewBox=\"0 0 24 24\"\n",
              "     width=\"24px\">\n",
              "    <g>\n",
              "        <path d=\"M19 3H5c-1.1 0-2 .9-2 2v14c0 1.1.9 2 2 2h14c1.1 0 2-.9 2-2V5c0-1.1-.9-2-2-2zM9 17H7v-7h2v7zm4 0h-2V7h2v10zm4 0h-2v-4h2v4z\"/>\n",
              "    </g>\n",
              "</svg>\n",
              "  </button>\n",
              "\n",
              "<style>\n",
              "  .colab-df-quickchart {\n",
              "      --bg-color: #E8F0FE;\n",
              "      --fill-color: #1967D2;\n",
              "      --hover-bg-color: #E2EBFA;\n",
              "      --hover-fill-color: #174EA6;\n",
              "      --disabled-fill-color: #AAA;\n",
              "      --disabled-bg-color: #DDD;\n",
              "  }\n",
              "\n",
              "  [theme=dark] .colab-df-quickchart {\n",
              "      --bg-color: #3B4455;\n",
              "      --fill-color: #D2E3FC;\n",
              "      --hover-bg-color: #434B5C;\n",
              "      --hover-fill-color: #FFFFFF;\n",
              "      --disabled-bg-color: #3B4455;\n",
              "      --disabled-fill-color: #666;\n",
              "  }\n",
              "\n",
              "  .colab-df-quickchart {\n",
              "    background-color: var(--bg-color);\n",
              "    border: none;\n",
              "    border-radius: 50%;\n",
              "    cursor: pointer;\n",
              "    display: none;\n",
              "    fill: var(--fill-color);\n",
              "    height: 32px;\n",
              "    padding: 0;\n",
              "    width: 32px;\n",
              "  }\n",
              "\n",
              "  .colab-df-quickchart:hover {\n",
              "    background-color: var(--hover-bg-color);\n",
              "    box-shadow: 0 1px 2px rgba(60, 64, 67, 0.3), 0 1px 3px 1px rgba(60, 64, 67, 0.15);\n",
              "    fill: var(--button-hover-fill-color);\n",
              "  }\n",
              "\n",
              "  .colab-df-quickchart-complete:disabled,\n",
              "  .colab-df-quickchart-complete:disabled:hover {\n",
              "    background-color: var(--disabled-bg-color);\n",
              "    fill: var(--disabled-fill-color);\n",
              "    box-shadow: none;\n",
              "  }\n",
              "\n",
              "  .colab-df-spinner {\n",
              "    border: 2px solid var(--fill-color);\n",
              "    border-color: transparent;\n",
              "    border-bottom-color: var(--fill-color);\n",
              "    animation:\n",
              "      spin 1s steps(1) infinite;\n",
              "  }\n",
              "\n",
              "  @keyframes spin {\n",
              "    0% {\n",
              "      border-color: transparent;\n",
              "      border-bottom-color: var(--fill-color);\n",
              "      border-left-color: var(--fill-color);\n",
              "    }\n",
              "    20% {\n",
              "      border-color: transparent;\n",
              "      border-left-color: var(--fill-color);\n",
              "      border-top-color: var(--fill-color);\n",
              "    }\n",
              "    30% {\n",
              "      border-color: transparent;\n",
              "      border-left-color: var(--fill-color);\n",
              "      border-top-color: var(--fill-color);\n",
              "      border-right-color: var(--fill-color);\n",
              "    }\n",
              "    40% {\n",
              "      border-color: transparent;\n",
              "      border-right-color: var(--fill-color);\n",
              "      border-top-color: var(--fill-color);\n",
              "    }\n",
              "    60% {\n",
              "      border-color: transparent;\n",
              "      border-right-color: var(--fill-color);\n",
              "    }\n",
              "    80% {\n",
              "      border-color: transparent;\n",
              "      border-right-color: var(--fill-color);\n",
              "      border-bottom-color: var(--fill-color);\n",
              "    }\n",
              "    90% {\n",
              "      border-color: transparent;\n",
              "      border-bottom-color: var(--fill-color);\n",
              "    }\n",
              "  }\n",
              "</style>\n",
              "\n",
              "  <script>\n",
              "    async function quickchart(key) {\n",
              "      const quickchartButtonEl =\n",
              "        document.querySelector('#' + key + ' button');\n",
              "      quickchartButtonEl.disabled = true;  // To prevent multiple clicks.\n",
              "      quickchartButtonEl.classList.add('colab-df-spinner');\n",
              "      try {\n",
              "        const charts = await google.colab.kernel.invokeFunction(\n",
              "            'suggestCharts', [key], {});\n",
              "      } catch (error) {\n",
              "        console.error('Error during call to suggestCharts:', error);\n",
              "      }\n",
              "      quickchartButtonEl.classList.remove('colab-df-spinner');\n",
              "      quickchartButtonEl.classList.add('colab-df-quickchart-complete');\n",
              "    }\n",
              "    (() => {\n",
              "      let quickchartButtonEl =\n",
              "        document.querySelector('#df-6df1549d-0955-486e-839a-b1efe34a14f5 button');\n",
              "      quickchartButtonEl.style.display =\n",
              "        google.colab.kernel.accessAllowed ? 'block' : 'none';\n",
              "    })();\n",
              "  </script>\n",
              "</div>\n",
              "\n",
              "    </div>\n",
              "  </div>\n"
            ],
            "application/vnd.google.colaboratory.intrinsic+json": {
              "type": "dataframe",
              "variable_name": "df",
              "summary": "{\n  \"name\": \"df\",\n  \"rows\": 7000,\n  \"fields\": [\n    {\n      \"column\": \"member-name\",\n      \"properties\": {\n        \"dtype\": \"category\",\n        \"num_unique_values\": 24,\n        \"samples\": [\n          \"Evans\",\n          \"Chisa Chisi\",\n          \"Chipi\"\n        ],\n        \"semantic_type\": \"\",\n        \"description\": \"\"\n      }\n    },\n    {\n      \"column\": \"email\",\n      \"properties\": {\n        \"dtype\": \"string\",\n        \"num_unique_values\": 7000,\n        \"samples\": [\n          \"atreskedw@livejournal.com\",\n          \"ndonaherq8@bloglovin.com\",\n          \"vlaxeo@smugmug.com\"\n        ],\n        \"semantic_type\": \"\",\n        \"description\": \"\"\n      }\n    },\n    {\n      \"column\": \"gender\",\n      \"properties\": {\n        \"dtype\": \"category\",\n        \"num_unique_values\": 2,\n        \"samples\": [\n          \"male\",\n          \"female\"\n        ],\n        \"semantic_type\": \"\",\n        \"description\": \"\"\n      }\n    },\n    {\n      \"column\": \"location\",\n      \"properties\": {\n        \"dtype\": \"category\",\n        \"num_unique_values\": 12,\n        \"samples\": [\n          \"Kadoma\",\n          \"Gwanda\"\n        ],\n        \"semantic_type\": \"\",\n        \"description\": \"\"\n      }\n    },\n    {\n      \"column\": \"employer\",\n      \"properties\": {\n        \"dtype\": \"category\",\n        \"num_unique_values\": 383,\n        \"samples\": [\n          \"Twimm\",\n          \"Feednation\"\n        ],\n        \"semantic_type\": \"\",\n        \"description\": \"\"\n      }\n    },\n    {\n      \"column\": \"relationship\",\n      \"properties\": {\n        \"dtype\": \"category\",\n        \"num_unique_values\": 13,\n        \"samples\": [\n          \"Grandmother\",\n          \"Sister\"\n        ],\n        \"semantic_type\": \"\",\n        \"description\": \"\"\n      }\n    },\n    {\n      \"column\": \"patient_name\",\n      \"properties\": {\n        \"dtype\": \"category\",\n        \"num_unique_values\": 24,\n        \"samples\": [\n          \"Geta\",\n          \"Gweta\"\n        ],\n        \"semantic_type\": \"\",\n        \"description\": \"\"\n      }\n    },\n    {\n      \"column\": \"patient_suffix\",\n      \"properties\": {\n        \"dtype\": \"number\",\n        \"std\": 259,\n        \"min\": 100,\n        \"max\": 999,\n        \"num_unique_values\": 899,\n        \"samples\": [\n          108,\n          900\n        ],\n        \"semantic_type\": \"\",\n        \"description\": \"\"\n      }\n    },\n    {\n      \"column\": \"patient_dob\",\n      \"properties\": {\n        \"dtype\": \"object\",\n        \"num_unique_values\": 5662,\n        \"samples\": [\n          \"1/25/1999\",\n          \"12/14/1981\"\n        ],\n        \"semantic_type\": \"\",\n        \"description\": \"\"\n      }\n    },\n    {\n      \"column\": \"cause\",\n      \"properties\": {\n        \"dtype\": \"category\",\n        \"num_unique_values\": 4,\n        \"samples\": [\n          \"Road Traffic Accident\",\n          \"Accident At Home\"\n        ],\n        \"semantic_type\": \"\",\n        \"description\": \"\"\n      }\n    },\n    {\n      \"column\": \"fee_charged\",\n      \"properties\": {\n        \"dtype\": \"number\",\n        \"std\": 14336,\n        \"min\": 503,\n        \"max\": 49998,\n        \"num_unique_values\": 6544,\n        \"samples\": [\n          19378,\n          6256\n        ],\n        \"semantic_type\": \"\",\n        \"description\": \"\"\n      }\n    },\n    {\n      \"column\": \"membership_period\",\n      \"properties\": {\n        \"dtype\": \"number\",\n        \"std\": 2576,\n        \"min\": 100,\n        \"max\": 9000,\n        \"num_unique_values\": 4847,\n        \"samples\": [\n          6926,\n          2458\n        ],\n        \"semantic_type\": \"\",\n        \"description\": \"\"\n      }\n    },\n    {\n      \"column\": \"number_of_claims\",\n      \"properties\": {\n        \"dtype\": \"number\",\n        \"std\": 1,\n        \"min\": 1,\n        \"max\": 6,\n        \"num_unique_values\": 6,\n        \"samples\": [\n          2,\n          4\n        ],\n        \"semantic_type\": \"\",\n        \"description\": \"\"\n      }\n    },\n    {\n      \"column\": \"number_of_dependants\",\n      \"properties\": {\n        \"dtype\": \"number\",\n        \"std\": 1,\n        \"min\": 1,\n        \"max\": 4,\n        \"num_unique_values\": 4,\n        \"samples\": [\n          3,\n          1\n        ],\n        \"semantic_type\": \"\",\n        \"description\": \"\"\n      }\n    },\n    {\n      \"column\": \"label\",\n      \"properties\": {\n        \"dtype\": \"number\",\n        \"std\": 0,\n        \"min\": 0,\n        \"max\": 1,\n        \"num_unique_values\": 2,\n        \"samples\": [\n          1,\n          0\n        ],\n        \"semantic_type\": \"\",\n        \"description\": \"\"\n      }\n    },\n    {\n      \"column\": \"age\",\n      \"properties\": {\n        \"dtype\": \"int32\",\n        \"num_unique_values\": 46,\n        \"samples\": [\n          49,\n          44\n        ],\n        \"semantic_type\": \"\",\n        \"description\": \"\"\n      }\n    }\n  ]\n}"
            }
          },
          "metadata": {},
          "execution_count": 12
        }
      ],
      "source": [
        "df.head()"
      ]
    },
    {
      "cell_type": "code",
      "execution_count": null,
      "metadata": {
        "colab": {
          "base_uri": "https://localhost:8080/",
          "height": 269
        },
        "id": "bTR_nHpq677E",
        "outputId": "d8fa746d-3648-4fa5-ef23-d7cb11e15be6"
      },
      "outputs": [
        {
          "output_type": "execute_result",
          "data": {
            "text/plain": [
              "                       count          mean           std  ...      50%       75%      max\n",
              "patient_suffix        7000.0    549.738857    259.634041  ...    549.0    777.00    999.0\n",
              "Fee Charged           7000.0  25464.071429  14336.311377  ...  25469.0  37870.75  49998.0\n",
              "membership_period     7000.0   4521.435143   2576.064241  ...   4485.0   6752.25   9000.0\n",
              "number_of_claims      7000.0      3.448000      1.707378  ...      3.0      5.00      6.0\n",
              "number_of_dependants  7000.0      2.479000      1.119704  ...      2.0      3.00      4.0\n",
              "label                 7000.0      0.197000      0.397761  ...      0.0      0.00      1.0\n",
              "age                   7000.0     36.944286     12.974065  ...     37.0     48.00     59.0\n",
              "\n",
              "[7 rows x 8 columns]"
            ],
            "text/html": [
              "\n",
              "  <div id=\"df-00d80497-aa73-4163-890e-e27b0673f215\" class=\"colab-df-container\">\n",
              "    <div>\n",
              "<style scoped>\n",
              "    .dataframe tbody tr th:only-of-type {\n",
              "        vertical-align: middle;\n",
              "    }\n",
              "\n",
              "    .dataframe tbody tr th {\n",
              "        vertical-align: top;\n",
              "    }\n",
              "\n",
              "    .dataframe thead th {\n",
              "        text-align: right;\n",
              "    }\n",
              "</style>\n",
              "<table border=\"1\" class=\"dataframe\">\n",
              "  <thead>\n",
              "    <tr style=\"text-align: right;\">\n",
              "      <th></th>\n",
              "      <th>count</th>\n",
              "      <th>mean</th>\n",
              "      <th>std</th>\n",
              "      <th>min</th>\n",
              "      <th>25%</th>\n",
              "      <th>50%</th>\n",
              "      <th>75%</th>\n",
              "      <th>max</th>\n",
              "    </tr>\n",
              "  </thead>\n",
              "  <tbody>\n",
              "    <tr>\n",
              "      <th>patient_suffix</th>\n",
              "      <td>7000.0</td>\n",
              "      <td>549.738857</td>\n",
              "      <td>259.634041</td>\n",
              "      <td>100.0</td>\n",
              "      <td>323.00</td>\n",
              "      <td>549.0</td>\n",
              "      <td>777.00</td>\n",
              "      <td>999.0</td>\n",
              "    </tr>\n",
              "    <tr>\n",
              "      <th>Fee Charged</th>\n",
              "      <td>7000.0</td>\n",
              "      <td>25464.071429</td>\n",
              "      <td>14336.311377</td>\n",
              "      <td>503.0</td>\n",
              "      <td>12864.25</td>\n",
              "      <td>25469.0</td>\n",
              "      <td>37870.75</td>\n",
              "      <td>49998.0</td>\n",
              "    </tr>\n",
              "    <tr>\n",
              "      <th>membership_period</th>\n",
              "      <td>7000.0</td>\n",
              "      <td>4521.435143</td>\n",
              "      <td>2576.064241</td>\n",
              "      <td>100.0</td>\n",
              "      <td>2298.75</td>\n",
              "      <td>4485.0</td>\n",
              "      <td>6752.25</td>\n",
              "      <td>9000.0</td>\n",
              "    </tr>\n",
              "    <tr>\n",
              "      <th>number_of_claims</th>\n",
              "      <td>7000.0</td>\n",
              "      <td>3.448000</td>\n",
              "      <td>1.707378</td>\n",
              "      <td>1.0</td>\n",
              "      <td>2.00</td>\n",
              "      <td>3.0</td>\n",
              "      <td>5.00</td>\n",
              "      <td>6.0</td>\n",
              "    </tr>\n",
              "    <tr>\n",
              "      <th>number_of_dependants</th>\n",
              "      <td>7000.0</td>\n",
              "      <td>2.479000</td>\n",
              "      <td>1.119704</td>\n",
              "      <td>1.0</td>\n",
              "      <td>1.00</td>\n",
              "      <td>2.0</td>\n",
              "      <td>3.00</td>\n",
              "      <td>4.0</td>\n",
              "    </tr>\n",
              "    <tr>\n",
              "      <th>label</th>\n",
              "      <td>7000.0</td>\n",
              "      <td>0.197000</td>\n",
              "      <td>0.397761</td>\n",
              "      <td>0.0</td>\n",
              "      <td>0.00</td>\n",
              "      <td>0.0</td>\n",
              "      <td>0.00</td>\n",
              "      <td>1.0</td>\n",
              "    </tr>\n",
              "    <tr>\n",
              "      <th>age</th>\n",
              "      <td>7000.0</td>\n",
              "      <td>36.944286</td>\n",
              "      <td>12.974065</td>\n",
              "      <td>14.0</td>\n",
              "      <td>26.00</td>\n",
              "      <td>37.0</td>\n",
              "      <td>48.00</td>\n",
              "      <td>59.0</td>\n",
              "    </tr>\n",
              "  </tbody>\n",
              "</table>\n",
              "</div>\n",
              "    <div class=\"colab-df-buttons\">\n",
              "\n",
              "  <div class=\"colab-df-container\">\n",
              "    <button class=\"colab-df-convert\" onclick=\"convertToInteractive('df-00d80497-aa73-4163-890e-e27b0673f215')\"\n",
              "            title=\"Convert this dataframe to an interactive table.\"\n",
              "            style=\"display:none;\">\n",
              "\n",
              "  <svg xmlns=\"http://www.w3.org/2000/svg\" height=\"24px\" viewBox=\"0 -960 960 960\">\n",
              "    <path d=\"M120-120v-720h720v720H120Zm60-500h600v-160H180v160Zm220 220h160v-160H400v160Zm0 220h160v-160H400v160ZM180-400h160v-160H180v160Zm440 0h160v-160H620v160ZM180-180h160v-160H180v160Zm440 0h160v-160H620v160Z\"/>\n",
              "  </svg>\n",
              "    </button>\n",
              "\n",
              "  <style>\n",
              "    .colab-df-container {\n",
              "      display:flex;\n",
              "      gap: 12px;\n",
              "    }\n",
              "\n",
              "    .colab-df-convert {\n",
              "      background-color: #E8F0FE;\n",
              "      border: none;\n",
              "      border-radius: 50%;\n",
              "      cursor: pointer;\n",
              "      display: none;\n",
              "      fill: #1967D2;\n",
              "      height: 32px;\n",
              "      padding: 0 0 0 0;\n",
              "      width: 32px;\n",
              "    }\n",
              "\n",
              "    .colab-df-convert:hover {\n",
              "      background-color: #E2EBFA;\n",
              "      box-shadow: 0px 1px 2px rgba(60, 64, 67, 0.3), 0px 1px 3px 1px rgba(60, 64, 67, 0.15);\n",
              "      fill: #174EA6;\n",
              "    }\n",
              "\n",
              "    .colab-df-buttons div {\n",
              "      margin-bottom: 4px;\n",
              "    }\n",
              "\n",
              "    [theme=dark] .colab-df-convert {\n",
              "      background-color: #3B4455;\n",
              "      fill: #D2E3FC;\n",
              "    }\n",
              "\n",
              "    [theme=dark] .colab-df-convert:hover {\n",
              "      background-color: #434B5C;\n",
              "      box-shadow: 0px 1px 3px 1px rgba(0, 0, 0, 0.15);\n",
              "      filter: drop-shadow(0px 1px 2px rgba(0, 0, 0, 0.3));\n",
              "      fill: #FFFFFF;\n",
              "    }\n",
              "  </style>\n",
              "\n",
              "    <script>\n",
              "      const buttonEl =\n",
              "        document.querySelector('#df-00d80497-aa73-4163-890e-e27b0673f215 button.colab-df-convert');\n",
              "      buttonEl.style.display =\n",
              "        google.colab.kernel.accessAllowed ? 'block' : 'none';\n",
              "\n",
              "      async function convertToInteractive(key) {\n",
              "        const element = document.querySelector('#df-00d80497-aa73-4163-890e-e27b0673f215');\n",
              "        const dataTable =\n",
              "          await google.colab.kernel.invokeFunction('convertToInteractive',\n",
              "                                                    [key], {});\n",
              "        if (!dataTable) return;\n",
              "\n",
              "        const docLinkHtml = 'Like what you see? Visit the ' +\n",
              "          '<a target=\"_blank\" href=https://colab.research.google.com/notebooks/data_table.ipynb>data table notebook</a>'\n",
              "          + ' to learn more about interactive tables.';\n",
              "        element.innerHTML = '';\n",
              "        dataTable['output_type'] = 'display_data';\n",
              "        await google.colab.output.renderOutput(dataTable, element);\n",
              "        const docLink = document.createElement('div');\n",
              "        docLink.innerHTML = docLinkHtml;\n",
              "        element.appendChild(docLink);\n",
              "      }\n",
              "    </script>\n",
              "  </div>\n",
              "\n",
              "\n",
              "<div id=\"df-bdee6d66-b3a6-4a07-bd3c-d9f7615bb2c8\">\n",
              "  <button class=\"colab-df-quickchart\" onclick=\"quickchart('df-bdee6d66-b3a6-4a07-bd3c-d9f7615bb2c8')\"\n",
              "            title=\"Suggest charts\"\n",
              "            style=\"display:none;\">\n",
              "\n",
              "<svg xmlns=\"http://www.w3.org/2000/svg\" height=\"24px\"viewBox=\"0 0 24 24\"\n",
              "     width=\"24px\">\n",
              "    <g>\n",
              "        <path d=\"M19 3H5c-1.1 0-2 .9-2 2v14c0 1.1.9 2 2 2h14c1.1 0 2-.9 2-2V5c0-1.1-.9-2-2-2zM9 17H7v-7h2v7zm4 0h-2V7h2v10zm4 0h-2v-4h2v4z\"/>\n",
              "    </g>\n",
              "</svg>\n",
              "  </button>\n",
              "\n",
              "<style>\n",
              "  .colab-df-quickchart {\n",
              "      --bg-color: #E8F0FE;\n",
              "      --fill-color: #1967D2;\n",
              "      --hover-bg-color: #E2EBFA;\n",
              "      --hover-fill-color: #174EA6;\n",
              "      --disabled-fill-color: #AAA;\n",
              "      --disabled-bg-color: #DDD;\n",
              "  }\n",
              "\n",
              "  [theme=dark] .colab-df-quickchart {\n",
              "      --bg-color: #3B4455;\n",
              "      --fill-color: #D2E3FC;\n",
              "      --hover-bg-color: #434B5C;\n",
              "      --hover-fill-color: #FFFFFF;\n",
              "      --disabled-bg-color: #3B4455;\n",
              "      --disabled-fill-color: #666;\n",
              "  }\n",
              "\n",
              "  .colab-df-quickchart {\n",
              "    background-color: var(--bg-color);\n",
              "    border: none;\n",
              "    border-radius: 50%;\n",
              "    cursor: pointer;\n",
              "    display: none;\n",
              "    fill: var(--fill-color);\n",
              "    height: 32px;\n",
              "    padding: 0;\n",
              "    width: 32px;\n",
              "  }\n",
              "\n",
              "  .colab-df-quickchart:hover {\n",
              "    background-color: var(--hover-bg-color);\n",
              "    box-shadow: 0 1px 2px rgba(60, 64, 67, 0.3), 0 1px 3px 1px rgba(60, 64, 67, 0.15);\n",
              "    fill: var(--button-hover-fill-color);\n",
              "  }\n",
              "\n",
              "  .colab-df-quickchart-complete:disabled,\n",
              "  .colab-df-quickchart-complete:disabled:hover {\n",
              "    background-color: var(--disabled-bg-color);\n",
              "    fill: var(--disabled-fill-color);\n",
              "    box-shadow: none;\n",
              "  }\n",
              "\n",
              "  .colab-df-spinner {\n",
              "    border: 2px solid var(--fill-color);\n",
              "    border-color: transparent;\n",
              "    border-bottom-color: var(--fill-color);\n",
              "    animation:\n",
              "      spin 1s steps(1) infinite;\n",
              "  }\n",
              "\n",
              "  @keyframes spin {\n",
              "    0% {\n",
              "      border-color: transparent;\n",
              "      border-bottom-color: var(--fill-color);\n",
              "      border-left-color: var(--fill-color);\n",
              "    }\n",
              "    20% {\n",
              "      border-color: transparent;\n",
              "      border-left-color: var(--fill-color);\n",
              "      border-top-color: var(--fill-color);\n",
              "    }\n",
              "    30% {\n",
              "      border-color: transparent;\n",
              "      border-left-color: var(--fill-color);\n",
              "      border-top-color: var(--fill-color);\n",
              "      border-right-color: var(--fill-color);\n",
              "    }\n",
              "    40% {\n",
              "      border-color: transparent;\n",
              "      border-right-color: var(--fill-color);\n",
              "      border-top-color: var(--fill-color);\n",
              "    }\n",
              "    60% {\n",
              "      border-color: transparent;\n",
              "      border-right-color: var(--fill-color);\n",
              "    }\n",
              "    80% {\n",
              "      border-color: transparent;\n",
              "      border-right-color: var(--fill-color);\n",
              "      border-bottom-color: var(--fill-color);\n",
              "    }\n",
              "    90% {\n",
              "      border-color: transparent;\n",
              "      border-bottom-color: var(--fill-color);\n",
              "    }\n",
              "  }\n",
              "</style>\n",
              "\n",
              "  <script>\n",
              "    async function quickchart(key) {\n",
              "      const quickchartButtonEl =\n",
              "        document.querySelector('#' + key + ' button');\n",
              "      quickchartButtonEl.disabled = true;  // To prevent multiple clicks.\n",
              "      quickchartButtonEl.classList.add('colab-df-spinner');\n",
              "      try {\n",
              "        const charts = await google.colab.kernel.invokeFunction(\n",
              "            'suggestCharts', [key], {});\n",
              "      } catch (error) {\n",
              "        console.error('Error during call to suggestCharts:', error);\n",
              "      }\n",
              "      quickchartButtonEl.classList.remove('colab-df-spinner');\n",
              "      quickchartButtonEl.classList.add('colab-df-quickchart-complete');\n",
              "    }\n",
              "    (() => {\n",
              "      let quickchartButtonEl =\n",
              "        document.querySelector('#df-bdee6d66-b3a6-4a07-bd3c-d9f7615bb2c8 button');\n",
              "      quickchartButtonEl.style.display =\n",
              "        google.colab.kernel.accessAllowed ? 'block' : 'none';\n",
              "    })();\n",
              "  </script>\n",
              "</div>\n",
              "\n",
              "    </div>\n",
              "  </div>\n"
            ],
            "application/vnd.google.colaboratory.intrinsic+json": {
              "type": "dataframe",
              "summary": "{\n  \"name\": \"df\",\n  \"rows\": 7,\n  \"fields\": [\n    {\n      \"column\": \"count\",\n      \"properties\": {\n        \"dtype\": \"number\",\n        \"std\": 0.0,\n        \"min\": 7000.0,\n        \"max\": 7000.0,\n        \"num_unique_values\": 1,\n        \"samples\": [\n          7000.0\n        ],\n        \"semantic_type\": \"\",\n        \"description\": \"\"\n      }\n    },\n    {\n      \"column\": \"mean\",\n      \"properties\": {\n        \"dtype\": \"number\",\n        \"std\": 9448.013229086417,\n        \"min\": 0.197,\n        \"max\": 25464.071428571428,\n        \"num_unique_values\": 7,\n        \"samples\": [\n          549.7388571428571\n        ],\n        \"semantic_type\": \"\",\n        \"description\": \"\"\n      }\n    },\n    {\n      \"column\": \"std\",\n      \"properties\": {\n        \"dtype\": \"number\",\n        \"std\": 5323.353936839052,\n        \"min\": 0.39776073454167804,\n        \"max\": 14336.311377070218,\n        \"num_unique_values\": 7,\n        \"samples\": [\n          259.6340414799126\n        ],\n        \"semantic_type\": \"\",\n        \"description\": \"\"\n      }\n    },\n    {\n      \"column\": \"min\",\n      \"properties\": {\n        \"dtype\": \"number\",\n        \"std\": 182.2797431474621,\n        \"min\": 0.0,\n        \"max\": 503.0,\n        \"num_unique_values\": 5,\n        \"samples\": [\n          503.0\n        ],\n        \"semantic_type\": \"\",\n        \"description\": \"\"\n      }\n    },\n    {\n      \"column\": \"25%\",\n      \"properties\": {\n        \"dtype\": \"number\",\n        \"std\": 4769.526537286584,\n        \"min\": 0.0,\n        \"max\": 12864.25,\n        \"num_unique_values\": 7,\n        \"samples\": [\n          323.0\n        ],\n        \"semantic_type\": \"\",\n        \"description\": \"\"\n      }\n    },\n    {\n      \"column\": \"50%\",\n      \"properties\": {\n        \"dtype\": \"number\",\n        \"std\": 9449.891354880629,\n        \"min\": 0.0,\n        \"max\": 25469.0,\n        \"num_unique_values\": 7,\n        \"samples\": [\n          549.0\n        ],\n        \"semantic_type\": \"\",\n        \"description\": \"\"\n      }\n    },\n    {\n      \"column\": \"75%\",\n      \"properties\": {\n        \"dtype\": \"number\",\n        \"std\": 14054.740458018494,\n        \"min\": 0.0,\n        \"max\": 37870.75,\n        \"num_unique_values\": 7,\n        \"samples\": [\n          777.0\n        ],\n        \"semantic_type\": \"\",\n        \"description\": \"\"\n      }\n    },\n    {\n      \"column\": \"max\",\n      \"properties\": {\n        \"dtype\": \"number\",\n        \"std\": 18557.867208635085,\n        \"min\": 1.0,\n        \"max\": 49998.0,\n        \"num_unique_values\": 7,\n        \"samples\": [\n          999.0\n        ],\n        \"semantic_type\": \"\",\n        \"description\": \"\"\n      }\n    }\n  ]\n}"
            }
          },
          "metadata": {},
          "execution_count": 12
        }
      ],
      "source": [
        "# 기초통계량 확인\n",
        "df.describe().T"
      ]
    },
    {
      "cell_type": "markdown",
      "metadata": {
        "id": "M0n9Z6noGu4m"
      },
      "source": [
        "**gender**\n",
        "\n",
        "\"male\":1, \"female\":2\n",
        "\n",
        "**location**\n",
        "\n",
        "\"Bindura\":1, \"Bulawayo\":2, \"Gwanda\":3, \"Gweru\":4, \"Harare\":5,\"Kadoma\":6, \"Kwekwe\":7, \"Marondera\":8, \"Masvingo\":9, \"Mutare\":10,\"Nyanga\":11, \"Rusape\":12\n",
        "\n",
        "**cause**\n",
        "\n",
        "\"Accident At Home\":1, \"Accident At Work\":2, \"Road Traffic Accident\":3, \"Other\":4"
      ]
    },
    {
      "cell_type": "code",
      "execution_count": null,
      "metadata": {
        "colab": {
          "base_uri": "https://localhost:8080/",
          "height": 243
        },
        "id": "-3-g99TEDyK4",
        "outputId": "0ee6e3c3-da91-4717-bd5a-a4ca8280c562"
      },
      "outputs": [
        {
          "output_type": "execute_result",
          "data": {
            "text/plain": [
              "  member-name                     email  gender   location   employer  \\\n",
              "0       Chipi        ajimmison0@sun.com       2     Kwekwe       Vipe   \n",
              "1       Femba     rsoonhouse1@google.it       2  Marondera       Mudo   \n",
              "2        Geta  bchecchetelli2@house.gov       2     Rusape     Skaboo   \n",
              "3    Tichaona          mgarman3@psu.edu       2     Rusape  Babbleset   \n",
              "4       Chisa     ccough4@biglobe.ne.jp       2   Bulawayo   Flipopia   \n",
              "\n",
              "  relationship patient_name  patient_suffix patient_dob  cause  fee_charged  \\\n",
              "0  Grandfather      Mabhena             789   9/11/1997      4         3798   \n",
              "1      Husband      Sithole             860   1/14/1992      4        48905   \n",
              "2       Mother        Chipi             374    7/3/1999      3        39963   \n",
              "3       Father       Jembwa             729   7/31/1978      3        34948   \n",
              "4       Father         Foto             716  12/28/1992      2        46984   \n",
              "\n",
              "   membership_period  number_of_claims  number_of_dependants  label  age  \n",
              "0               1541                 2                     4      0   27  \n",
              "1               8269                 4                     3      0   32  \n",
              "2               6223                 2                     2      0   25  \n",
              "3               8832                 6                     3      0   46  \n",
              "4               8804                 1                     2      1   32  "
            ],
            "text/html": [
              "\n",
              "  <div id=\"df-365e4a97-e7d1-4720-ac38-88599d4c6810\" class=\"colab-df-container\">\n",
              "    <div>\n",
              "<style scoped>\n",
              "    .dataframe tbody tr th:only-of-type {\n",
              "        vertical-align: middle;\n",
              "    }\n",
              "\n",
              "    .dataframe tbody tr th {\n",
              "        vertical-align: top;\n",
              "    }\n",
              "\n",
              "    .dataframe thead th {\n",
              "        text-align: right;\n",
              "    }\n",
              "</style>\n",
              "<table border=\"1\" class=\"dataframe\">\n",
              "  <thead>\n",
              "    <tr style=\"text-align: right;\">\n",
              "      <th></th>\n",
              "      <th>member-name</th>\n",
              "      <th>email</th>\n",
              "      <th>gender</th>\n",
              "      <th>location</th>\n",
              "      <th>employer</th>\n",
              "      <th>relationship</th>\n",
              "      <th>patient_name</th>\n",
              "      <th>patient_suffix</th>\n",
              "      <th>patient_dob</th>\n",
              "      <th>cause</th>\n",
              "      <th>fee_charged</th>\n",
              "      <th>membership_period</th>\n",
              "      <th>number_of_claims</th>\n",
              "      <th>number_of_dependants</th>\n",
              "      <th>label</th>\n",
              "      <th>age</th>\n",
              "    </tr>\n",
              "  </thead>\n",
              "  <tbody>\n",
              "    <tr>\n",
              "      <th>0</th>\n",
              "      <td>Chipi</td>\n",
              "      <td>ajimmison0@sun.com</td>\n",
              "      <td>2</td>\n",
              "      <td>Kwekwe</td>\n",
              "      <td>Vipe</td>\n",
              "      <td>Grandfather</td>\n",
              "      <td>Mabhena</td>\n",
              "      <td>789</td>\n",
              "      <td>9/11/1997</td>\n",
              "      <td>4</td>\n",
              "      <td>3798</td>\n",
              "      <td>1541</td>\n",
              "      <td>2</td>\n",
              "      <td>4</td>\n",
              "      <td>0</td>\n",
              "      <td>27</td>\n",
              "    </tr>\n",
              "    <tr>\n",
              "      <th>1</th>\n",
              "      <td>Femba</td>\n",
              "      <td>rsoonhouse1@google.it</td>\n",
              "      <td>2</td>\n",
              "      <td>Marondera</td>\n",
              "      <td>Mudo</td>\n",
              "      <td>Husband</td>\n",
              "      <td>Sithole</td>\n",
              "      <td>860</td>\n",
              "      <td>1/14/1992</td>\n",
              "      <td>4</td>\n",
              "      <td>48905</td>\n",
              "      <td>8269</td>\n",
              "      <td>4</td>\n",
              "      <td>3</td>\n",
              "      <td>0</td>\n",
              "      <td>32</td>\n",
              "    </tr>\n",
              "    <tr>\n",
              "      <th>2</th>\n",
              "      <td>Geta</td>\n",
              "      <td>bchecchetelli2@house.gov</td>\n",
              "      <td>2</td>\n",
              "      <td>Rusape</td>\n",
              "      <td>Skaboo</td>\n",
              "      <td>Mother</td>\n",
              "      <td>Chipi</td>\n",
              "      <td>374</td>\n",
              "      <td>7/3/1999</td>\n",
              "      <td>3</td>\n",
              "      <td>39963</td>\n",
              "      <td>6223</td>\n",
              "      <td>2</td>\n",
              "      <td>2</td>\n",
              "      <td>0</td>\n",
              "      <td>25</td>\n",
              "    </tr>\n",
              "    <tr>\n",
              "      <th>3</th>\n",
              "      <td>Tichaona</td>\n",
              "      <td>mgarman3@psu.edu</td>\n",
              "      <td>2</td>\n",
              "      <td>Rusape</td>\n",
              "      <td>Babbleset</td>\n",
              "      <td>Father</td>\n",
              "      <td>Jembwa</td>\n",
              "      <td>729</td>\n",
              "      <td>7/31/1978</td>\n",
              "      <td>3</td>\n",
              "      <td>34948</td>\n",
              "      <td>8832</td>\n",
              "      <td>6</td>\n",
              "      <td>3</td>\n",
              "      <td>0</td>\n",
              "      <td>46</td>\n",
              "    </tr>\n",
              "    <tr>\n",
              "      <th>4</th>\n",
              "      <td>Chisa</td>\n",
              "      <td>ccough4@biglobe.ne.jp</td>\n",
              "      <td>2</td>\n",
              "      <td>Bulawayo</td>\n",
              "      <td>Flipopia</td>\n",
              "      <td>Father</td>\n",
              "      <td>Foto</td>\n",
              "      <td>716</td>\n",
              "      <td>12/28/1992</td>\n",
              "      <td>2</td>\n",
              "      <td>46984</td>\n",
              "      <td>8804</td>\n",
              "      <td>1</td>\n",
              "      <td>2</td>\n",
              "      <td>1</td>\n",
              "      <td>32</td>\n",
              "    </tr>\n",
              "  </tbody>\n",
              "</table>\n",
              "</div>\n",
              "    <div class=\"colab-df-buttons\">\n",
              "\n",
              "  <div class=\"colab-df-container\">\n",
              "    <button class=\"colab-df-convert\" onclick=\"convertToInteractive('df-365e4a97-e7d1-4720-ac38-88599d4c6810')\"\n",
              "            title=\"Convert this dataframe to an interactive table.\"\n",
              "            style=\"display:none;\">\n",
              "\n",
              "  <svg xmlns=\"http://www.w3.org/2000/svg\" height=\"24px\" viewBox=\"0 -960 960 960\">\n",
              "    <path d=\"M120-120v-720h720v720H120Zm60-500h600v-160H180v160Zm220 220h160v-160H400v160Zm0 220h160v-160H400v160ZM180-400h160v-160H180v160Zm440 0h160v-160H620v160ZM180-180h160v-160H180v160Zm440 0h160v-160H620v160Z\"/>\n",
              "  </svg>\n",
              "    </button>\n",
              "\n",
              "  <style>\n",
              "    .colab-df-container {\n",
              "      display:flex;\n",
              "      gap: 12px;\n",
              "    }\n",
              "\n",
              "    .colab-df-convert {\n",
              "      background-color: #E8F0FE;\n",
              "      border: none;\n",
              "      border-radius: 50%;\n",
              "      cursor: pointer;\n",
              "      display: none;\n",
              "      fill: #1967D2;\n",
              "      height: 32px;\n",
              "      padding: 0 0 0 0;\n",
              "      width: 32px;\n",
              "    }\n",
              "\n",
              "    .colab-df-convert:hover {\n",
              "      background-color: #E2EBFA;\n",
              "      box-shadow: 0px 1px 2px rgba(60, 64, 67, 0.3), 0px 1px 3px 1px rgba(60, 64, 67, 0.15);\n",
              "      fill: #174EA6;\n",
              "    }\n",
              "\n",
              "    .colab-df-buttons div {\n",
              "      margin-bottom: 4px;\n",
              "    }\n",
              "\n",
              "    [theme=dark] .colab-df-convert {\n",
              "      background-color: #3B4455;\n",
              "      fill: #D2E3FC;\n",
              "    }\n",
              "\n",
              "    [theme=dark] .colab-df-convert:hover {\n",
              "      background-color: #434B5C;\n",
              "      box-shadow: 0px 1px 3px 1px rgba(0, 0, 0, 0.15);\n",
              "      filter: drop-shadow(0px 1px 2px rgba(0, 0, 0, 0.3));\n",
              "      fill: #FFFFFF;\n",
              "    }\n",
              "  </style>\n",
              "\n",
              "    <script>\n",
              "      const buttonEl =\n",
              "        document.querySelector('#df-365e4a97-e7d1-4720-ac38-88599d4c6810 button.colab-df-convert');\n",
              "      buttonEl.style.display =\n",
              "        google.colab.kernel.accessAllowed ? 'block' : 'none';\n",
              "\n",
              "      async function convertToInteractive(key) {\n",
              "        const element = document.querySelector('#df-365e4a97-e7d1-4720-ac38-88599d4c6810');\n",
              "        const dataTable =\n",
              "          await google.colab.kernel.invokeFunction('convertToInteractive',\n",
              "                                                    [key], {});\n",
              "        if (!dataTable) return;\n",
              "\n",
              "        const docLinkHtml = 'Like what you see? Visit the ' +\n",
              "          '<a target=\"_blank\" href=https://colab.research.google.com/notebooks/data_table.ipynb>data table notebook</a>'\n",
              "          + ' to learn more about interactive tables.';\n",
              "        element.innerHTML = '';\n",
              "        dataTable['output_type'] = 'display_data';\n",
              "        await google.colab.output.renderOutput(dataTable, element);\n",
              "        const docLink = document.createElement('div');\n",
              "        docLink.innerHTML = docLinkHtml;\n",
              "        element.appendChild(docLink);\n",
              "      }\n",
              "    </script>\n",
              "  </div>\n",
              "\n",
              "\n",
              "<div id=\"df-9da44675-2edf-4d99-8977-25b39a27e053\">\n",
              "  <button class=\"colab-df-quickchart\" onclick=\"quickchart('df-9da44675-2edf-4d99-8977-25b39a27e053')\"\n",
              "            title=\"Suggest charts\"\n",
              "            style=\"display:none;\">\n",
              "\n",
              "<svg xmlns=\"http://www.w3.org/2000/svg\" height=\"24px\"viewBox=\"0 0 24 24\"\n",
              "     width=\"24px\">\n",
              "    <g>\n",
              "        <path d=\"M19 3H5c-1.1 0-2 .9-2 2v14c0 1.1.9 2 2 2h14c1.1 0 2-.9 2-2V5c0-1.1-.9-2-2-2zM9 17H7v-7h2v7zm4 0h-2V7h2v10zm4 0h-2v-4h2v4z\"/>\n",
              "    </g>\n",
              "</svg>\n",
              "  </button>\n",
              "\n",
              "<style>\n",
              "  .colab-df-quickchart {\n",
              "      --bg-color: #E8F0FE;\n",
              "      --fill-color: #1967D2;\n",
              "      --hover-bg-color: #E2EBFA;\n",
              "      --hover-fill-color: #174EA6;\n",
              "      --disabled-fill-color: #AAA;\n",
              "      --disabled-bg-color: #DDD;\n",
              "  }\n",
              "\n",
              "  [theme=dark] .colab-df-quickchart {\n",
              "      --bg-color: #3B4455;\n",
              "      --fill-color: #D2E3FC;\n",
              "      --hover-bg-color: #434B5C;\n",
              "      --hover-fill-color: #FFFFFF;\n",
              "      --disabled-bg-color: #3B4455;\n",
              "      --disabled-fill-color: #666;\n",
              "  }\n",
              "\n",
              "  .colab-df-quickchart {\n",
              "    background-color: var(--bg-color);\n",
              "    border: none;\n",
              "    border-radius: 50%;\n",
              "    cursor: pointer;\n",
              "    display: none;\n",
              "    fill: var(--fill-color);\n",
              "    height: 32px;\n",
              "    padding: 0;\n",
              "    width: 32px;\n",
              "  }\n",
              "\n",
              "  .colab-df-quickchart:hover {\n",
              "    background-color: var(--hover-bg-color);\n",
              "    box-shadow: 0 1px 2px rgba(60, 64, 67, 0.3), 0 1px 3px 1px rgba(60, 64, 67, 0.15);\n",
              "    fill: var(--button-hover-fill-color);\n",
              "  }\n",
              "\n",
              "  .colab-df-quickchart-complete:disabled,\n",
              "  .colab-df-quickchart-complete:disabled:hover {\n",
              "    background-color: var(--disabled-bg-color);\n",
              "    fill: var(--disabled-fill-color);\n",
              "    box-shadow: none;\n",
              "  }\n",
              "\n",
              "  .colab-df-spinner {\n",
              "    border: 2px solid var(--fill-color);\n",
              "    border-color: transparent;\n",
              "    border-bottom-color: var(--fill-color);\n",
              "    animation:\n",
              "      spin 1s steps(1) infinite;\n",
              "  }\n",
              "\n",
              "  @keyframes spin {\n",
              "    0% {\n",
              "      border-color: transparent;\n",
              "      border-bottom-color: var(--fill-color);\n",
              "      border-left-color: var(--fill-color);\n",
              "    }\n",
              "    20% {\n",
              "      border-color: transparent;\n",
              "      border-left-color: var(--fill-color);\n",
              "      border-top-color: var(--fill-color);\n",
              "    }\n",
              "    30% {\n",
              "      border-color: transparent;\n",
              "      border-left-color: var(--fill-color);\n",
              "      border-top-color: var(--fill-color);\n",
              "      border-right-color: var(--fill-color);\n",
              "    }\n",
              "    40% {\n",
              "      border-color: transparent;\n",
              "      border-right-color: var(--fill-color);\n",
              "      border-top-color: var(--fill-color);\n",
              "    }\n",
              "    60% {\n",
              "      border-color: transparent;\n",
              "      border-right-color: var(--fill-color);\n",
              "    }\n",
              "    80% {\n",
              "      border-color: transparent;\n",
              "      border-right-color: var(--fill-color);\n",
              "      border-bottom-color: var(--fill-color);\n",
              "    }\n",
              "    90% {\n",
              "      border-color: transparent;\n",
              "      border-bottom-color: var(--fill-color);\n",
              "    }\n",
              "  }\n",
              "</style>\n",
              "\n",
              "  <script>\n",
              "    async function quickchart(key) {\n",
              "      const quickchartButtonEl =\n",
              "        document.querySelector('#' + key + ' button');\n",
              "      quickchartButtonEl.disabled = true;  // To prevent multiple clicks.\n",
              "      quickchartButtonEl.classList.add('colab-df-spinner');\n",
              "      try {\n",
              "        const charts = await google.colab.kernel.invokeFunction(\n",
              "            'suggestCharts', [key], {});\n",
              "      } catch (error) {\n",
              "        console.error('Error during call to suggestCharts:', error);\n",
              "      }\n",
              "      quickchartButtonEl.classList.remove('colab-df-spinner');\n",
              "      quickchartButtonEl.classList.add('colab-df-quickchart-complete');\n",
              "    }\n",
              "    (() => {\n",
              "      let quickchartButtonEl =\n",
              "        document.querySelector('#df-9da44675-2edf-4d99-8977-25b39a27e053 button');\n",
              "      quickchartButtonEl.style.display =\n",
              "        google.colab.kernel.accessAllowed ? 'block' : 'none';\n",
              "    })();\n",
              "  </script>\n",
              "</div>\n",
              "\n",
              "    </div>\n",
              "  </div>\n"
            ],
            "application/vnd.google.colaboratory.intrinsic+json": {
              "type": "dataframe",
              "variable_name": "df",
              "summary": "{\n  \"name\": \"df\",\n  \"rows\": 7000,\n  \"fields\": [\n    {\n      \"column\": \"member-name\",\n      \"properties\": {\n        \"dtype\": \"category\",\n        \"num_unique_values\": 24,\n        \"samples\": [\n          \"Evans\",\n          \"Chisa Chisi\",\n          \"Chipi\"\n        ],\n        \"semantic_type\": \"\",\n        \"description\": \"\"\n      }\n    },\n    {\n      \"column\": \"email\",\n      \"properties\": {\n        \"dtype\": \"string\",\n        \"num_unique_values\": 7000,\n        \"samples\": [\n          \"atreskedw@livejournal.com\",\n          \"ndonaherq8@bloglovin.com\",\n          \"vlaxeo@smugmug.com\"\n        ],\n        \"semantic_type\": \"\",\n        \"description\": \"\"\n      }\n    },\n    {\n      \"column\": \"gender\",\n      \"properties\": {\n        \"dtype\": \"number\",\n        \"std\": 0,\n        \"min\": 1,\n        \"max\": 2,\n        \"num_unique_values\": 2,\n        \"samples\": [\n          1,\n          2\n        ],\n        \"semantic_type\": \"\",\n        \"description\": \"\"\n      }\n    },\n    {\n      \"column\": \"location\",\n      \"properties\": {\n        \"dtype\": \"category\",\n        \"num_unique_values\": 12,\n        \"samples\": [\n          \"Kadoma\",\n          \"Gwanda\"\n        ],\n        \"semantic_type\": \"\",\n        \"description\": \"\"\n      }\n    },\n    {\n      \"column\": \"employer\",\n      \"properties\": {\n        \"dtype\": \"category\",\n        \"num_unique_values\": 383,\n        \"samples\": [\n          \"Twimm\",\n          \"Feednation\"\n        ],\n        \"semantic_type\": \"\",\n        \"description\": \"\"\n      }\n    },\n    {\n      \"column\": \"relationship\",\n      \"properties\": {\n        \"dtype\": \"category\",\n        \"num_unique_values\": 13,\n        \"samples\": [\n          \"Grandmother\",\n          \"Sister\"\n        ],\n        \"semantic_type\": \"\",\n        \"description\": \"\"\n      }\n    },\n    {\n      \"column\": \"patient_name\",\n      \"properties\": {\n        \"dtype\": \"category\",\n        \"num_unique_values\": 24,\n        \"samples\": [\n          \"Geta\",\n          \"Gweta\"\n        ],\n        \"semantic_type\": \"\",\n        \"description\": \"\"\n      }\n    },\n    {\n      \"column\": \"patient_suffix\",\n      \"properties\": {\n        \"dtype\": \"number\",\n        \"std\": 259,\n        \"min\": 100,\n        \"max\": 999,\n        \"num_unique_values\": 899,\n        \"samples\": [\n          108,\n          900\n        ],\n        \"semantic_type\": \"\",\n        \"description\": \"\"\n      }\n    },\n    {\n      \"column\": \"patient_dob\",\n      \"properties\": {\n        \"dtype\": \"object\",\n        \"num_unique_values\": 5662,\n        \"samples\": [\n          \"1/25/1999\",\n          \"12/14/1981\"\n        ],\n        \"semantic_type\": \"\",\n        \"description\": \"\"\n      }\n    },\n    {\n      \"column\": \"cause\",\n      \"properties\": {\n        \"dtype\": \"number\",\n        \"std\": 1,\n        \"min\": 1,\n        \"max\": 4,\n        \"num_unique_values\": 4,\n        \"samples\": [\n          3,\n          1\n        ],\n        \"semantic_type\": \"\",\n        \"description\": \"\"\n      }\n    },\n    {\n      \"column\": \"fee_charged\",\n      \"properties\": {\n        \"dtype\": \"number\",\n        \"std\": 14336,\n        \"min\": 503,\n        \"max\": 49998,\n        \"num_unique_values\": 6544,\n        \"samples\": [\n          19378,\n          6256\n        ],\n        \"semantic_type\": \"\",\n        \"description\": \"\"\n      }\n    },\n    {\n      \"column\": \"membership_period\",\n      \"properties\": {\n        \"dtype\": \"number\",\n        \"std\": 2576,\n        \"min\": 100,\n        \"max\": 9000,\n        \"num_unique_values\": 4847,\n        \"samples\": [\n          6926,\n          2458\n        ],\n        \"semantic_type\": \"\",\n        \"description\": \"\"\n      }\n    },\n    {\n      \"column\": \"number_of_claims\",\n      \"properties\": {\n        \"dtype\": \"number\",\n        \"std\": 1,\n        \"min\": 1,\n        \"max\": 6,\n        \"num_unique_values\": 6,\n        \"samples\": [\n          2,\n          4\n        ],\n        \"semantic_type\": \"\",\n        \"description\": \"\"\n      }\n    },\n    {\n      \"column\": \"number_of_dependants\",\n      \"properties\": {\n        \"dtype\": \"number\",\n        \"std\": 1,\n        \"min\": 1,\n        \"max\": 4,\n        \"num_unique_values\": 4,\n        \"samples\": [\n          3,\n          1\n        ],\n        \"semantic_type\": \"\",\n        \"description\": \"\"\n      }\n    },\n    {\n      \"column\": \"label\",\n      \"properties\": {\n        \"dtype\": \"number\",\n        \"std\": 0,\n        \"min\": 0,\n        \"max\": 1,\n        \"num_unique_values\": 2,\n        \"samples\": [\n          1,\n          0\n        ],\n        \"semantic_type\": \"\",\n        \"description\": \"\"\n      }\n    },\n    {\n      \"column\": \"age\",\n      \"properties\": {\n        \"dtype\": \"int32\",\n        \"num_unique_values\": 46,\n        \"samples\": [\n          49,\n          44\n        ],\n        \"semantic_type\": \"\",\n        \"description\": \"\"\n      }\n    }\n  ]\n}"
            }
          },
          "metadata": {},
          "execution_count": 13
        }
      ],
      "source": [
        "# Ordinal Encoding 'gender', 'location', 'cause'\n",
        "gender_map = {\"male\":1, \"female\":2 }\n",
        "df[\"gender\"] = df[\"gender\"].map(gender_map)\n",
        "\n",
        "#location_map = {\"Bindura\":1, \"Bulawayo\":2, \"Gwanda\":3, \"Gweru\":4, \"Harare\":5,\n",
        "#                \"Kadoma\":6, \"Kwekwe\":7, \"Marondera\":8, \"Masvingo\":9, \"Mutare\":10,\n",
        "#               \"Nyanga\":11, \"Rusape\":12 }\n",
        "\n",
        "#df[\"location\"] = df[\"location\"].map(location_map)\n",
        "\n",
        "\n",
        "cause_map = {\"Accident At Home\":1, \"Accident At Work\":2, \"Road Traffic Accident\":3,\n",
        "             \"Other\":4}\n",
        "df[\"cause\"] = df[\"cause\"].map(cause_map)\n",
        "\n",
        "df.head()"
      ]
    },
    {
      "cell_type": "markdown",
      "metadata": {
        "id": "SO7mO9T0OKc6"
      },
      "source": [
        "**XGBOOST**"
      ]
    },
    {
      "cell_type": "code",
      "source": [
        "from xgboost import XGBClassifier\n",
        "from sklearn.metrics import classification_report, confusion_matrix\n",
        "from sklearn.model_selection import GridSearchCV\n",
        "from sklearn.metrics import classification_report, confusion_matrix, accuracy_score\n",
        "import matplotlib.pyplot as plt\n",
        "import numpy as np\n",
        "\n",
        "# XGBoost 모델 생성\n",
        "xgb_model = XGBClassifier(random_state=42)\n",
        "\n",
        "xgb_param_grid={\n",
        "    'max_depth' : [3,5,7,10,15],\n",
        "    'n_estimators' : [100,200,300,400,500],\n",
        "    'learning_rate' : [0.01,0.05,0.1,0.15],\n",
        "    'gamma' : [0,1,2,3],\n",
        "    'colsample_bytree' : [0.8,0.9],\n",
        "}\n",
        "\n",
        "grid_search = GridSearchCV(estimator=xgb_model, param_grid=xgb_param_grid,\n",
        "                           cv=5, scoring='accuracy', n_jobs=-1, verbose=2)\n",
        "\n",
        "# GridSearchCV 실행\n",
        "# 전처리 2차원 차원 축소 실행 필요\n",
        "try:\n",
        "    grid_search.fit(X_train_pca, y_train)\n",
        "    print(\"Best parameters:\", grid_search.best_params_)\n",
        "    print(\"Best cross-validation score:\", grid_search.best_score_)\n",
        "\n",
        "    # 최적의 모델로 예측\n",
        "    best_model = grid_search.best_estimator_\n",
        "    y_pred_xgb = best_model.predict(X_test_scaled)\n",
        "\n",
        "    print(\"Accuracy Score:\", accuracy_score(y_test, y_pred_xgb))\n",
        "except Exception as e:\n",
        "    print(\"An error occurred during GridSearchCV:\", str(e))"
      ],
      "metadata": {
        "id": "7ETNXxAwlE0C",
        "colab": {
          "base_uri": "https://localhost:8080/"
        },
        "outputId": "a67b2c34-7fc6-4d98-f111-601f1cdf1668"
      },
      "execution_count": null,
      "outputs": [
        {
          "output_type": "stream",
          "name": "stdout",
          "text": [
            "An error occurred during GridSearchCV: name 'X_train_pca' is not defined\n"
          ]
        }
      ]
    },
    {
      "cell_type": "code",
      "source": [
        "#파라미터 수정1 // 이 코드까지 차원 축소 PCA 사용\n",
        "from xgboost import XGBClassifier\n",
        "from sklearn.metrics import classification_report, confusion_matrix\n",
        "from sklearn.model_selection import GridSearchCV\n",
        "from sklearn.metrics import classification_report, confusion_matrix, accuracy_score\n",
        "import matplotlib.pyplot as plt\n",
        "import numpy as np\n",
        "\n",
        "# XGBoost 모델 생성\n",
        "xgb_model = XGBClassifier(random_state=42)\n",
        "\n",
        "xgb_param_grid={\n",
        "    'max_depth' : [1,2,3,4,5],\n",
        "    'n_estimators' : [100,150,200,250,300],\n",
        "    'learning_rate' : [0.001,0.005,0.01,0.05],\n",
        "    'gamma' : [0,1,2,3],\n",
        "    'colsample_bytree' : [0.1,0.5],\n",
        "}\n",
        "\n",
        "grid_search = GridSearchCV(estimator=xgb_model, param_grid=xgb_param_grid,\n",
        "                           cv=5, scoring='accuracy', n_jobs=-1, verbose=2)\n",
        "\n",
        "# GridSearchCV 실행\n",
        "# 전처리 2차원 차원 축소 실행 필요\n",
        "try:\n",
        "    grid_search.fit(X_train_pca, y_train)\n",
        "    print(\"Best parameters:\", grid_search.best_params_)\n",
        "    print(\"Best cross-validation score:\", grid_search.best_score_)\n",
        "\n",
        "    # 최적의 모델로 예측\n",
        "    best_model = grid_search.best_estimator_\n",
        "    y_pred_xgb = best_model.predict(X_test_scaled)\n",
        "\n",
        "    print(\"Accuracy Score:\", accuracy_score(y_test, y_pred_xgb))\n",
        "except Exception as e:\n",
        "    print(\"An error occurred during GridSearchCV:\", str(e))"
      ],
      "metadata": {
        "id": "h8lyl0aTj6z3",
        "colab": {
          "base_uri": "https://localhost:8080/"
        },
        "outputId": "6eef7bc6-d8af-4e6f-dcc8-e80ad2ee527b"
      },
      "execution_count": null,
      "outputs": [
        {
          "output_type": "stream",
          "name": "stdout",
          "text": [
            "Fitting 5 folds for each of 800 candidates, totalling 4000 fits\n",
            "Best parameters: {'colsample_bytree': 0.1, 'gamma': 0, 'learning_rate': 0.001, 'max_depth': 1, 'n_estimators': 100}\n",
            "Best cross-validation score: 0.8017857142857142\n",
            "An error occurred during GridSearchCV: Feature shape mismatch, expected: 2, got 9\n"
          ]
        }
      ]
    },
    {
      "cell_type": "code",
      "source": [
        "#파라미터 수정2 pca차원 축소 사용 X\n",
        "from xgboost import XGBClassifier\n",
        "from sklearn.metrics import classification_report, confusion_matrix\n",
        "from sklearn.model_selection import GridSearchCV\n",
        "from sklearn.metrics import classification_report, confusion_matrix, accuracy_score\n",
        "import matplotlib.pyplot as plt\n",
        "import numpy as np\n",
        "\n",
        "# XGBoost 모델 생성\n",
        "xgb_model = XGBClassifier(random_state=42)\n",
        "\n",
        "xgb_param_grid={\n",
        "    'max_depth' : [3, 5, 7, 10],\n",
        "    'n_estimators' : [50, 100, 200, 300, 400],\n",
        "    'learning_rate' : [0.001, 0.01, 0.1, 0.2],\n",
        "    'gamma' : [0, 0.5, 1, 2],\n",
        "    'colsample_bytree' : [0.5, 0.7, 0.9],\n",
        "}\n",
        "\n",
        "grid_search = GridSearchCV(estimator=xgb_model, param_grid=xgb_param_grid,\n",
        "                           cv=5, scoring='accuracy', n_jobs=-1, verbose=2)\n",
        "\n",
        "# GridSearchCV 실행\n",
        "try:\n",
        "    grid_search.fit(X_train_scaled, y_train)\n",
        "    print(\"Best parameters:\", grid_search.best_params_)\n",
        "    print(\"Best cross-validation score:\", grid_search.best_score_)\n",
        "\n",
        "    # 최적의 모델로 예측\n",
        "    best_model = grid_search.best_estimator_\n",
        "    y_pred_xgb = best_model.predict(X_test_scaled)\n",
        "\n",
        "    print(\"Accuracy Score:\", accuracy_score(y_test, y_pred_xgb))\n",
        "except Exception as e:\n",
        "    print(\"An error occurred during GridSearchCV:\", str(e))"
      ],
      "metadata": {
        "colab": {
          "base_uri": "https://localhost:8080/"
        },
        "id": "Dj1c1HESra4u",
        "outputId": "baa647d1-acf4-409d-b00a-dab890d4bbdf"
      },
      "execution_count": null,
      "outputs": [
        {
          "output_type": "stream",
          "name": "stdout",
          "text": [
            "Fitting 5 folds for each of 960 candidates, totalling 4800 fits\n",
            "Best parameters: {'colsample_bytree': 0.5, 'gamma': 0, 'learning_rate': 0.001, 'max_depth': 3, 'n_estimators': 50}\n",
            "Best cross-validation score: 0.8017857142857142\n",
            "Accuracy Score: 0.8078571428571428\n"
          ]
        }
      ]
    },
    {
      "cell_type": "code",
      "source": [
        "#파라미터 수정3 pca차원 축소 사용 X\n",
        "from xgboost import XGBClassifier\n",
        "from sklearn.metrics import classification_report, confusion_matrix\n",
        "from sklearn.model_selection import GridSearchCV\n",
        "from sklearn.metrics import classification_report, confusion_matrix, accuracy_score, roc_curve, roc_auc_score\n",
        "import matplotlib.pyplot as plt\n",
        "import numpy as np\n",
        "\n",
        "# XGBoost 모델 생성\n",
        "xgb_model = XGBClassifier(random_state=42)\n",
        "\n",
        "xgb_param_grid={\n",
        "    'max_depth' : [3, 5, 7, 10],\n",
        "    'n_estimators' : [50, 100, 200, 300, 400],\n",
        "    'learning_rate' : [0.001, 0.01, 0.1, 0.2],\n",
        "    'gamma' : [0, 0.5, 1, 2],\n",
        "    'colsample_bytree' : [0.5, 0.7, 0.9],\n",
        "}\n",
        "\n",
        "grid_search = GridSearchCV(estimator=xgb_model, param_grid=xgb_param_grid,\n",
        "                           cv=5, scoring='accuracy', n_jobs=-1, verbose=2)\n",
        "\n",
        "# GridSearchCV 실행\n",
        "try:\n",
        "    grid_search.fit(X_train_scaled, y_train)\n",
        "    print(\"Best parameters:\", grid_search.best_params_)\n",
        "    print(\"Best cross-validation score:\", grid_search.best_score_)\n",
        "\n",
        "# 최적의 모델로 업데이트\n",
        "    xgb_model = grid_search.best_estimator_\n",
        "    y_pred_xgb = xgb_model.predict(X_test_scaled)\n",
        "\n",
        "    print(\"Accuracy Score:\", accuracy_score(y_test, y_pred_xgb))\n",
        "except Exception as e:\n",
        "    print(\"An error occurred during GridSearchCV:\", str(e))\n",
        "\n",
        "# ROC Curve\n",
        "y_pred_proba_xgb = xgb_model.predict_proba(X_test_scaled)[:, 1]  # 클래스 확률\n",
        "fpr, tpr, _ = roc_curve(y_test, y_pred_proba_xgb)\n",
        "roc_auc = roc_auc_score(y_test, y_pred_proba_xgb)\n",
        "\n",
        "plt.figure(figsize=(10, 5))\n",
        "plt.subplot(1, 2, 1)\n",
        "plt.plot(fpr, tpr, color='blue', label=f'ROC Curve (AUC = {roc_auc:.2f})')\n",
        "plt.plot([0, 1], [0, 1], color='gray', linestyle='--')  # 대각선\n",
        "plt.title(\"ROC Curve\")\n",
        "plt.xlabel(\"False Positive Rate\")\n",
        "plt.ylabel(\"True Positive Rate\")\n",
        "plt.legend(loc=\"lower right\")\n",
        "plt.show()"
      ],
      "metadata": {
        "id": "1IELo7Brs5PA",
        "colab": {
          "base_uri": "https://localhost:8080/",
          "height": 559
        },
        "outputId": "e0e3a353-94b1-4503-b361-600bc2359161"
      },
      "execution_count": null,
      "outputs": [
        {
          "output_type": "stream",
          "name": "stdout",
          "text": [
            "Fitting 5 folds for each of 960 candidates, totalling 4800 fits\n",
            "Best parameters: {'colsample_bytree': 0.5, 'gamma': 0, 'learning_rate': 0.001, 'max_depth': 3, 'n_estimators': 50}\n",
            "Best cross-validation score: 0.8028571428571428\n",
            "Accuracy Score: 0.8035714285714286\n"
          ]
        },
        {
          "output_type": "display_data",
          "data": {
            "text/plain": [
              "<Figure size 1000x500 with 1 Axes>"
            ],
            "image/png": "[encoded data removed]"
          },
          "metadata": {}
        }
      ]
    },
    {
      "cell_type": "code",
      "source": [
        "from xgboost import XGBClassifier\n",
        "from sklearn.metrics import classification_report, confusion_matrix\n",
        "from sklearn.model_selection import GridSearchCV\n",
        "from sklearn.metrics import confusion_matrix, accuracy_score\n",
        "import matplotlib.pyplot as plt\n",
        "import numpy as np\n",
        "\n",
        "xgb_model = XGBClassifier(objective='binary:logistic', eval_metric = 'auc', early_stopping_rounds=10)\n",
        "\n",
        "param_grid_ = {\n",
        "    'learning_rate': [0.001, 0.01, 0.1],\n",
        "    'max_depth': [3, 5, 7, 9],\n",
        "    'n_estimators': [100, 300, 500],\n",
        "    'subsample': [0.6, 0.8, 1.0],\n",
        "    'colsample_bytree': [0.6, 0.8, 1.0],\n",
        "    'min_child_weight': [1, 3, 5]\n",
        "}\n",
        "grid_search = GridSearchCV(estimator=xgb_model, param_grid = param_grid_)\n",
        "\n",
        "grid_search.fit(X_train_scaled, y_train, eval_set=[(X_test_scaled, y_test)], verbose=0)\n",
        "\n",
        "#최적의 모델로 예측\n",
        "best_model = grid_search.best_estimator_\n",
        "y_pred_xgb = best_model.predict(X_test_scaled)\n",
        "\n",
        "print(\"Best parameters:\", best_model)\n",
        "print(\"Accuracy Score:\", accuracy_score(y_test, y_pred_xgb))\n"
      ],
      "metadata": {
        "colab": {
          "base_uri": "https://localhost:8080/"
        },
        "id": "7TbaXnV4Ohah",
        "outputId": "a28a1801-3c9d-49a2-cd56-23ae4a737634"
      },
      "execution_count": null,
      "outputs": [
        {
          "output_type": "stream",
          "name": "stdout",
          "text": [
            "Best parameters: XGBClassifier(base_score=None, booster=None, callbacks=None,\n",
            "              colsample_bylevel=None, colsample_bynode=None,\n",
            "              colsample_bytree=0.6, device=None, early_stopping_rounds=10,\n",
            "              enable_categorical=False, eval_metric='auc', feature_types=None,\n",
            "              gamma=None, grow_policy=None, importance_type=None,\n",
            "              interaction_constraints=None, learning_rate=0.001, max_bin=None,\n",
            "              max_cat_threshold=None, max_cat_to_onehot=None,\n",
            "              max_delta_step=None, max_depth=3, max_leaves=None,\n",
            "              min_child_weight=1, missing=nan, monotone_constraints=None,\n",
            "              multi_strategy=None, n_estimators=100, n_jobs=None,\n",
            "              num_parallel_tree=None, random_state=None, ...)\n",
            "Accuracy Score: 0.8035714285714286\n"
          ]
        }
      ]
    },
    {
      "cell_type": "code",
      "source": [
        "from xgboost import XGBClassifier\n",
        "from sklearn.metrics import classification_report, confusion_matrix\n",
        "from sklearn.model_selection import GridSearchCV\n",
        "from sklearn.metrics import confusion_matrix, accuracy_score\n",
        "from sklearn.ensemble import VotingClassifier\n",
        "import matplotlib.pyplot as plt\n",
        "import numpy as np\n",
        "\n",
        "xgb_model = XGBClassifier(objective='binary:logistic')\n",
        "\n",
        "param_grid_ = {\n",
        "    'learning_rate': [0.01, 0.05, 0.1 , 1],\n",
        "    'max_depth': [1, 3, 5, 10],\n",
        "    'n_estimators': [100, 300, 500],\n",
        "    'subsample': [0.6, 0.8, 1.0],\n",
        "    'colsample_bytree': [0.6, 0.8, 1.0],\n",
        "    'min_child_weight': [1, 3, 5]\n",
        "}\n",
        "\n",
        "voting_cl = VotingClassifier(\n",
        "    estimators = [('xgb', best_model)],\n",
        "    voting = 'soft'\n",
        ")\n",
        "\n",
        "voting_cl.fit(X_train_scaled, y_train)\n",
        "\n",
        "#최적의 모델로 예측\n",
        "y_pred_xgb = voting_cl.predict(X_test_scaled)\n",
        "\n",
        "print(\"Best parameters:\", best_model)\n",
        "print(\"Accuracy Score:\", accuracy_score(y_test, y_pred_xgb))\n"
      ],
      "metadata": {
        "colab": {
          "base_uri": "https://localhost:8080/"
        },
        "id": "2YoO65-V9_IT",
        "outputId": "289a41b1-dc95-46f0-b704-b4a6645de99d"
      },
      "execution_count": null,
      "outputs": [
        {
          "output_type": "stream",
          "name": "stdout",
          "text": [
            "Best parameters: XGBClassifier(base_score=None, booster=None, callbacks=None,\n",
            "              colsample_bylevel=None, colsample_bynode=None,\n",
            "              colsample_bytree=0.5, device=None, early_stopping_rounds=None,\n",
            "              enable_categorical=False, eval_metric=None, feature_types=None,\n",
            "              gamma=0, grow_policy=None, importance_type=None,\n",
            "              interaction_constraints=None, learning_rate=0.001, max_bin=None,\n",
            "              max_cat_threshold=None, max_cat_to_onehot=None,\n",
            "              max_delta_step=None, max_depth=3, max_leaves=None,\n",
            "              min_child_weight=None, missing=nan, monotone_constraints=None,\n",
            "              multi_strategy=None, n_estimators=50, n_jobs=None,\n",
            "              num_parallel_tree=None, random_state=42, ...)\n",
            "Accuracy Score: 0.8035714285714286\n"
          ]
        }
      ]
    },
    {
      "cell_type": "code",
      "source": [
        "from xgboost import XGBClassifier\n",
        "from sklearn.metrics import classification_report, confusion_matrix\n",
        "from sklearn.model_selection import GridSearchCV\n",
        "from sklearn.metrics import confusion_matrix, accuracy_score\n",
        "import matplotlib.pyplot as plt\n",
        "import numpy as np\n",
        "\n",
        "xgb_model = XGBClassifier(objective='binary:logistic', eval_metric = 'auc',  early_stopping_rounds=10)\n",
        "\n",
        "xgb_param_grid={\n",
        "    'max_depth' : [3, 5, 7, 10],\n",
        "    'n_estimators' : [50, 100, 200, 300, 400],\n",
        "    'learning_rate' : [0.001, 0.01, 0.1, 0.2],\n",
        "    'gamma' : [0, 0.5, 1, 2],\n",
        "    'colsample_bytree' : [0.5, 0.7, 0.9],\n",
        "}\n",
        "\n",
        "grid_search = GridSearchCV(estimator=xgb_model, param_grid = param_grid_)\n",
        "\n",
        "grid_search.fit(X_train_scaled, y_train, eval_set=[(X_test_scaled, y_test)], verbose=False)\n",
        "\n",
        "#최적의 모델로 예측\n",
        "best_model = grid_search.best_estimator_\n",
        "y_pred_xgb = best_model.predict(X_test_scaled)\n",
        "\n",
        "print(\"Accuracy Score:\", accuracy_score(y_test, y_pred_xgb))"
      ],
      "metadata": {
        "colab": {
          "base_uri": "https://localhost:8080/"
        },
        "id": "Fu_uQRn74ToY",
        "outputId": "2997125d-745c-4e1a-dd26-17d359478bc4"
      },
      "execution_count": null,
      "outputs": [
        {
          "output_type": "stream",
          "name": "stdout",
          "text": [
            "Accuracy Score: 0.8035714285714286\n"
          ]
        }
      ]
    },
    {
      "cell_type": "code",
      "source": [
        "from xgboost import XGBClassifier\n",
        "from sklearn.metrics import classification_report, confusion_matrix\n",
        "from sklearn.model_selection import GridSearchCV\n",
        "from sklearn.metrics import confusion_matrix, accuracy_score\n",
        "from sklearn.ensemble import VotingClassifier\n",
        "import matplotlib.pyplot as plt\n",
        "import numpy as np\n",
        "import xgboost as xgb\n",
        "\n",
        "dtrain = xgb.DMatrix(X_train_scaled, label=y_train)\n",
        "dtest = xgb.DMatrix(X_test_scaled, label=y_test)\n",
        "\n",
        "xgb_model = XGBClassifier(objective='binary:logistic')\n",
        "\n",
        "xgb_param_grid={\n",
        "    'max_depth' : [3, 5, 7, 10],\n",
        "    'n_estimators' : [50, 100, 200, 300, 400],\n",
        "    'learning_rate' : [0.001, 0.01, 0.1, 0.2],\n",
        "    'gamma' : [0, 0.5, 1, 2],\n",
        "    'colsample_bytree' : [0.5, 0.7, 0.9],\n",
        "}\n",
        "\n",
        "grid_search = GridSearchCV(estimator=xgb_model, param_grid = xgb_param_grid)\n",
        "\n",
        "grid_search.fit(X_train_scaled, y_train)\n",
        "\n",
        "best_model = grid_search.best_estimator_\n",
        "y_pred_xgb = best_model.predict(X_test_scaled)\n",
        "\n",
        "print(\"Best parameters:\", best_model)\n",
        "print(\"Accuracy Score:\", accuracy_score(y_test, y_pred_xgb))\n",
        "\n"
      ],
      "metadata": {
        "colab": {
          "base_uri": "https://localhost:8080/"
        },
        "id": "jLXUqwKSIo_Q",
        "outputId": "ed312fe8-1e54-4729-e26b-9162ec872c6a"
      },
      "execution_count": null,
      "outputs": [
        {
          "output_type": "stream",
          "name": "stdout",
          "text": [
            "Best parameters: XGBClassifier(base_score=None, booster=None, callbacks=None,\n",
            "              colsample_bylevel=None, colsample_bynode=None,\n",
            "              colsample_bytree=0.5, device=None, early_stopping_rounds=None,\n",
            "              enable_categorical=False, eval_metric=None, feature_types=None,\n",
            "              gamma=1, grow_policy=None, importance_type=None,\n",
            "              interaction_constraints=None, learning_rate=0.2, max_bin=None,\n",
            "              max_cat_threshold=None, max_cat_to_onehot=None,\n",
            "              max_delta_step=None, max_depth=10, max_leaves=None,\n",
            "              min_child_weight=None, missing=nan, monotone_constraints=None,\n",
            "              multi_strategy=None, n_estimators=50, n_jobs=None,\n",
            "              num_parallel_tree=None, random_state=None, ...)\n",
            "Accuracy Score: 0.8035714285714286\n"
          ]
        }
      ]
    },
    {
      "cell_type": "code",
      "source": [
        "from xgboost import XGBClassifier\n",
        "from sklearn.metrics import classification_report, confusion_matrix\n",
        "from sklearn.metrics import confusion_matrix, accuracy_score\n",
        "from sklearn.ensemble import VotingClassifier\n",
        "import matplotlib.pyplot as plt\n",
        "import numpy as np\n",
        "import xgboost as xgb\n",
        "\n",
        "dtrain = xgb.DMatrix(X_train_scaled, label=y_train)\n",
        "dtest = xgb.DMatrix(X_test_scaled, label=y_test)\n",
        "\n",
        "\n",
        "xgb_model = XGBClassifier(objective='binary:logistic',\n",
        "                          max_depth=5,\n",
        "                          n_estimators=200,\n",
        "                          learning_rate=0.1,\n",
        "                          gamma=0.5,\n",
        "                          colsample_bytree=0.7\n",
        ")\n",
        "\n",
        "xgb_model.fit(X_train_scaled, y_train, verbose=False)\n",
        "\n",
        "#최적의 모델로 예측\n",
        "y_pred_xgb = xgb_model.predict(X_test_scaled)\n",
        "\n",
        "y_pred_xgb = xgb_model.predict(X_test_scaled)\n",
        "\n",
        "print(\"Accuracy Score:\", accuracy_score(y_test, y_pred_xgb))\n"
      ],
      "metadata": {
        "colab": {
          "base_uri": "https://localhost:8080/"
        },
        "id": "Lm6JGrjeLpHf",
        "outputId": "2526a3e3-5a7f-4ef0-89d1-3c40d672499b"
      },
      "execution_count": null,
      "outputs": [
        {
          "output_type": "stream",
          "name": "stdout",
          "text": [
            "Accuracy Score: 0.8028571428571428\n"
          ]
        }
      ]
    },
    {
      "cell_type": "code",
      "execution_count": null,
      "metadata": {
        "colab": {
          "base_uri": "https://localhost:8080/"
        },
        "id": "0jzmnCwJMiPB",
        "outputId": "87e0a5cb-6087-4ba2-dce2-736ee1e4cb91"
      },
      "outputs": [
        {
          "output_type": "stream",
          "name": "stdout",
          "text": [
            "XGBoost Model Performance:\n",
            "              precision    recall  f1-score   support\n",
            "\n",
            "           0       0.80      1.00      0.89      1125\n",
            "           1       0.00      0.00      0.00       275\n",
            "\n",
            "    accuracy                           0.80      1400\n",
            "   macro avg       0.40      0.50      0.45      1400\n",
            "weighted avg       0.65      0.80      0.72      1400\n",
            "\n",
            "[[1125    0]\n",
            " [ 275    0]]\n"
          ]
        }
      ],
      "source": [
        "# 모델 평가\n",
        "print(\"XGBoost Model Performance:\")\n",
        "print(classification_report(y_test, y_pred_xgb))\n",
        "print(confusion_matrix(y_test, y_pred_xgb))"
      ]
    },
    {
      "cell_type": "markdown",
      "source": [
        "**RandomForestClassifier**"
      ],
      "metadata": {
        "id": "IwcnWjQEv4HS"
      }
    },
    {
      "cell_type": "code",
      "execution_count": null,
      "metadata": {
        "colab": {
          "base_uri": "https://localhost:8080/",
          "height": 704
        },
        "id": "bhM3v03zN77A",
        "outputId": "5f732fc3-3a26-42da-e9f5-f9ab919b4643"
      },
      "outputs": [
        {
          "output_type": "stream",
          "name": "stdout",
          "text": [
            " RandomForestClassifier 분류기 정확도 0.7964\n"
          ]
        },
        {
          "output_type": "display_data",
          "data": {
            "text/plain": [
              "<Figure size 1000x500 with 1 Axes>"
            ],
            "image/png": "[encoded data removed]"
          },
          "metadata": {}
        },
        {
          "output_type": "stream",
          "name": "stdout",
          "text": [
            "              precision    recall  f1-score   support\n",
            "\n",
            "           0       0.80      0.99      0.89      1125\n",
            "           1       0.19      0.01      0.02       275\n",
            "\n",
            "    accuracy                           0.80      1400\n",
            "   macro avg       0.50      0.50      0.45      1400\n",
            "weighted avg       0.68      0.80      0.72      1400\n",
            "\n",
            "[[1112   13]\n",
            " [ 272    3]]\n"
          ]
        }
      ],
      "source": [
        "from sklearn.ensemble import RandomForestClassifier # 솔직히 랜덤포레스트 있어야 하는지 모르겠는데 혹시 사용할 수도 있어서 일단 임포트\n",
        "from sklearn.metrics import classification_report, confusion_matrix, roc_curve, roc_auc_score\n",
        "\n",
        "# Random Forest 모델 생성\n",
        "rf_model = RandomForestClassifier(n_estimators=100, random_state=42) # 100개의 결정 트리로 모델 생성\n",
        "\n",
        "# 모델 학습\n",
        "rf_model.fit(X_train, y_train)\n",
        "\n",
        "# 예측\n",
        "y_pred = rf_model.predict(X_test)\n",
        "\n",
        "print(\" RandomForestClassifier 분류기 정확도 {0:.4f}\".format(accuracy_score(y_test, y_pred)))\n",
        "\n",
        "# ROC Curve\n",
        "y_pred_proba_rf = rf_model.predict_proba(X_test_scaled)[:, 1]  # 클래스 확률\n",
        "fpr, tpr, _ = roc_curve(y_test, y_pred_proba_rf)\n",
        "roc_auc = roc_auc_score(y_test, y_pred_proba_rf)\n",
        "\n",
        "plt.figure(figsize=(10, 5))\n",
        "plt.subplot(1, 2, 1) #사이즈 줄임\n",
        "plt.plot(fpr, tpr, color='blue', label=f'ROC Curve (AUC = {roc_auc:.2f})')\n",
        "plt.plot([0, 1], [0, 1], color='gray', linestyle='--')  # 대각선\n",
        "plt.title(\"ROC Curve\")\n",
        "plt.xlabel(\"False Positive Rate\")\n",
        "plt.ylabel(\"True Positive Rate\")\n",
        "plt.legend(loc=\"lower right\")\n",
        "plt.show()\n",
        "\n",
        "# 모델 평가\n",
        "print(classification_report(y_test, y_pred))\n",
        "print(confusion_matrix(y_test, y_pred))"
      ]
    },
    {
      "cell_type": "code",
      "source": [
        "from sklearn.ensemble import RandomForestClassifier # 솔직히 랜덤포레스트 있어야 하는지 모르겠는데 혹시 사용할 수도 있어서 일단 임포트\n",
        "from sklearn.metrics import classification_report, confusion_matrix, roc_curve, roc_auc_score\n",
        "\n",
        "# Random Forest 모델 생성\n",
        "rf_model = RandomForestClassifier(n_estimators=1000,\n",
        "                                  max_depth=12,\n",
        "                                  min_samples_split=8,\n",
        "                                  min_samples_leaf=8,\n",
        "                                  random_state=42) # 100개의 결정 트리로 모델 생성\n",
        "\n",
        "# 모델 학습\n",
        "rf_model.fit(X_train, y_train)\n",
        "\n",
        "# 예측\n",
        "y_pred = rf_model.predict(X_test)\n",
        "\n",
        "print(\" RandomForestClassifier 분류기 정확도 {0:.4f}\".format(accuracy_score(y_test, y_pred)))\n",
        "\n",
        "# ROC Curve\n",
        "y_pred_proba_rf = rf_model.predict_proba(X_test_scaled)[:, 1]  # 클래스 확률\n",
        "fpr, tpr, _ = roc_curve(y_test, y_pred_proba_rf)\n",
        "roc_auc = roc_auc_score(y_test, y_pred_proba_rf)\n",
        "\n",
        "plt.figure(figsize=(10, 5))\n",
        "plt.subplot(1, 2, 1) #사이즈 줄임\n",
        "plt.plot(fpr, tpr, color='blue', label=f'ROC Curve (AUC = {roc_auc:.2f})')\n",
        "plt.plot([0, 1], [0, 1], color='gray', linestyle='--')  # 대각선\n",
        "plt.title(\"ROC Curve\")\n",
        "plt.xlabel(\"False Positive Rate\")\n",
        "plt.ylabel(\"True Positive Rate\")\n",
        "plt.legend(loc=\"lower right\")\n",
        "plt.show()\n",
        "\n",
        "# 모델 평가\n",
        "print(classification_report(y_test, y_pred))\n",
        "print(confusion_matrix(y_test, y_pred))"
      ],
      "metadata": {
        "colab": {
          "base_uri": "https://localhost:8080/",
          "height": 704
        },
        "id": "KE2GBi_YZZWC",
        "outputId": "e122030d-e5d0-4fc3-b7eb-fcbcb5de8dec"
      },
      "execution_count": null,
      "outputs": [
        {
          "output_type": "stream",
          "name": "stdout",
          "text": [
            " RandomForestClassifier 분류기 정확도 0.8036\n"
          ]
        },
        {
          "output_type": "display_data",
          "data": {
            "text/plain": [
              "<Figure size 1000x500 with 1 Axes>"
            ],
            "image/png": "[encoded data removed]"
          },
          "metadata": {}
        },
        {
          "output_type": "stream",
          "name": "stdout",
          "text": [
            "              precision    recall  f1-score   support\n",
            "\n",
            "           0       0.80      1.00      0.89      1125\n",
            "           1       0.00      0.00      0.00       275\n",
            "\n",
            "    accuracy                           0.80      1400\n",
            "   macro avg       0.40      0.50      0.45      1400\n",
            "weighted avg       0.65      0.80      0.72      1400\n",
            "\n",
            "[[1125    0]\n",
            " [ 275    0]]\n"
          ]
        }
      ]
    },
    {
      "cell_type": "code",
      "source": [
        "from sklearn.ensemble import RandomForestClassifier # 솔직히 랜덤포레스트 있어야 하는지 모르겠는데 혹시 사용할 수도 있어서 일단 임포트\n",
        "from sklearn.metrics import classification_report, confusion_matrix, roc_curve, roc_auc_score\n",
        "\n",
        "# Random Forest 모델 생성\n",
        "rf_model = RandomForestClassifier(n_estimators=2000,\n",
        "                                  max_depth=2,\n",
        "                                  min_samples_split=8,\n",
        "                                  min_samples_leaf=8,\n",
        "                                  random_state=42) # 100개의 결정 트리로 모델 생성\n",
        "\n",
        "# 모델 학습\n",
        "rf_model.fit(X_train, y_train)\n",
        "\n",
        "# 예측\n",
        "y_pred = rf_model.predict(X_test)\n",
        "\n",
        "print(\" RandomForestClassifier 분류기 정확도 {0:.4f}\".format(accuracy_score(y_test, y_pred)))\n",
        "\n",
        "# ROC Curve\n",
        "y_pred_proba_rf = rf_model.predict_proba(X_test_scaled)[:, 1]  # 클래스 확률\n",
        "fpr, tpr, _ = roc_curve(y_test, y_pred_proba_rf)\n",
        "roc_auc = roc_auc_score(y_test, y_pred_proba_rf)\n",
        "\n",
        "plt.figure(figsize=(10, 5))\n",
        "plt.subplot(1, 2, 1) #사이즈 줄임\n",
        "plt.plot(fpr, tpr, color='blue', label=f'ROC Curve (AUC = {roc_auc:.2f})')\n",
        "plt.plot([0, 1], [0, 1], color='gray', linestyle='--')  # 대각선\n",
        "plt.title(\"ROC Curve\")\n",
        "plt.xlabel(\"False Positive Rate\")\n",
        "plt.ylabel(\"True Positive Rate\")\n",
        "plt.legend(loc=\"lower right\")\n",
        "plt.show()\n",
        "\n",
        "# 모델 평가\n",
        "print(classification_report(y_test, y_pred))\n",
        "print(confusion_matrix(y_test, y_pred))"
      ],
      "metadata": {
        "colab": {
          "base_uri": "https://localhost:8080/",
          "height": 704
        },
        "id": "igYKe0CHbvTV",
        "outputId": "c8af892d-6f74-4b06-96a9-4d54e091a6c0"
      },
      "execution_count": null,
      "outputs": [
        {
          "output_type": "stream",
          "name": "stdout",
          "text": [
            " RandomForestClassifier 분류기 정확도 0.8036\n"
          ]
        },
        {
          "output_type": "display_data",
          "data": {
            "text/plain": [
              "<Figure size 1000x500 with 1 Axes>"
            ],
            "image/png": "[encoded data removed]"
          },
          "metadata": {}
        },
        {
          "output_type": "stream",
          "name": "stdout",
          "text": [
            "              precision    recall  f1-score   support\n",
            "\n",
            "           0       0.80      1.00      0.89      1125\n",
            "           1       0.00      0.00      0.00       275\n",
            "\n",
            "    accuracy                           0.80      1400\n",
            "   macro avg       0.40      0.50      0.45      1400\n",
            "weighted avg       0.65      0.80      0.72      1400\n",
            "\n",
            "[[1125    0]\n",
            " [ 275    0]]\n"
          ]
        }
      ]
    },
    {
      "cell_type": "markdown",
      "source": [
        "**voting**"
      ],
      "metadata": {
        "id": "a9jk8Dys5otR"
      }
    },
    {
      "cell_type": "code",
      "execution_count": null,
      "metadata": {
        "colab": {
          "base_uri": "https://localhost:8080/"
        },
        "id": "szY0Bnj8SGqp",
        "outputId": "eb63c75f-9b8f-4999-c189-594ca76514c4"
      },
      "outputs": [
        {
          "name": "stdout",
          "output_type": "stream",
          "text": [
            "voting 분류기 정확도 0.8036\n"
          ]
        }
      ],
      "source": [
        "from sklearn.ensemble import VotingClassifier\n",
        "from sklearn.linear_model import LogisticRegression\n",
        "from sklearn.neighbors import KNeighborsClassifier\n",
        "from sklearn.metrics import accuracy_score\n",
        "\n",
        "\n",
        "\n",
        "#weak learners: logistic regression, KNN\n",
        "logistic_regression = LogisticRegression()\n",
        "KNN = KNeighborsClassifier()\n",
        "\n",
        "#votinng ensemble with these two weak learners\n",
        "voting_ensemble = VotingClassifier(estimators=[(\"LogisticRegression\", logistic_regression), (\"KNN\", KNN)],\n",
        "                                  voting = 'soft')\n",
        "\n",
        "# voting_ensemble model train/val/test\n",
        "voting_ensemble.fit(X_train_scaled, y_train)\n",
        "y_pred = voting_ensemble.predict(X_test_scaled)\n",
        "\n",
        "print(\"voting 분류기 정확도 {0:.4f}\".format(accuracy_score(y_test, y_pred)))"
      ]
    },
    {
      "cell_type": "code",
      "source": [
        "from sklearn.ensemble import VotingClassifier\n",
        "from sklearn.linear_model import LogisticRegression\n",
        "from sklearn.neighbors import KNeighborsClassifier\n",
        "from sklearn.metrics import accuracy_score, roc_curve, roc_auc_score\n",
        "\n",
        "\n",
        "#weak learners: logistic regression, KNN\n",
        "logistic_regression = LogisticRegression()\n",
        "KNN = KNeighborsClassifier()\n",
        "\n",
        "#votinng ensemble with these two weak learners\n",
        "voting_ensemble = VotingClassifier(estimators=[(\"LogisticRegression\", logistic_regression), (\"KNN\", KNN)],\n",
        "                                  voting = 'soft')\n",
        "\n",
        "# voting_ensemble model train/val/test\n",
        "voting_ensemble.fit(X_train_scaled, y_train)\n",
        "y_pred = voting_ensemble.predict(X_test_scaled)\n",
        "\n",
        "print(\"voting 분류기 정확도 {0:.4f}\".format(accuracy_score(y_test, y_pred)))\n",
        "\n",
        "# ROC Curve\n",
        "y_pred_proba = voting_ensemble.predict_proba(X_test_scaled)[:, 1]  # 클래스 확률\n",
        "fpr, tpr, _ = roc_curve(y_test, y_pred_proba)\n",
        "roc_auc = roc_auc_score(y_test, y_pred_proba)\n",
        "\n",
        "plt.figure(figsize=(10, 5))\n",
        "plt.subplot(1, 2, 1) #사이즈 줄임\n",
        "plt.plot(fpr, tpr, color='blue', label=f'ROC Curve (AUC = {roc_auc:.2f})')\n",
        "plt.plot([0, 1], [0, 1], color='gray', linestyle='--')  # 대각선\n",
        "plt.title(\"ROC Curve\")\n",
        "plt.xlabel(\"False Positive Rate\")\n",
        "plt.ylabel(\"True Positive Rate\")\n",
        "plt.legend(loc=\"lower right\")\n",
        "plt.show()"
      ],
      "metadata": {
        "colab": {
          "base_uri": "https://localhost:8080/",
          "height": 505
        },
        "id": "VbcTTVgkVbrF",
        "outputId": "18fef61d-593e-47ca-8398-86cc8f23b795"
      },
      "execution_count": null,
      "outputs": [
        {
          "output_type": "stream",
          "name": "stdout",
          "text": [
            "voting 분류기 정확도 0.8029\n"
          ]
        },
        {
          "output_type": "display_data",
          "data": {
            "text/plain": [
              "<Figure size 1000x500 with 1 Axes>"
            ],
            "image/png": "[encoded data removed]"
          },
          "metadata": {}
        }
      ]
    },
    {
      "cell_type": "code",
      "source": [
        "from google.colab import drive\n",
        "drive.mount('/content/drive')"
      ],
      "metadata": {
        "id": "oJgfNlav56cX"
      },
      "execution_count": null,
      "outputs": []
    },
    {
      "cell_type": "markdown",
      "source": [
        "**LGBMClassifier**"
      ],
      "metadata": {
        "id": "7rokFRmzcwN7"
      }
    },
    {
      "cell_type": "code",
      "execution_count": null,
      "metadata": {
        "colab": {
          "base_uri": "https://localhost:8080/",
          "height": 849
        },
        "id": "uujHF-ujU72a",
        "outputId": "3ad5ede3-90ee-48b0-f277-20b9d6435c7d"
      },
      "outputs": [
        {
          "output_type": "stream",
          "name": "stdout",
          "text": [
            "[LightGBM] [Info] Number of positive: 1104, number of negative: 4496\n",
            "[LightGBM] [Info] Auto-choosing row-wise multi-threading, the overhead of testing was 0.001826 seconds.\n",
            "You can set `force_row_wise=true` to remove the overhead.\n",
            "And if memory is not enough, you can set `force_col_wise=true`.\n",
            "[LightGBM] [Info] Total Bins 581\n",
            "[LightGBM] [Info] Number of data points in the train set: 5600, number of used features: 9\n",
            "[LightGBM] [Info] [binary:BoostFromScore]: pavg=0.197143 -> initscore=-1.404248\n",
            "[LightGBM] [Info] Start training from score -1.404248\n"
          ]
        },
        {
          "output_type": "display_data",
          "data": {
            "text/plain": [
              "<Figure size 1000x500 with 1 Axes>"
            ],
            "image/png": "[encoded data removed]"
          },
          "metadata": {}
        },
        {
          "output_type": "stream",
          "name": "stdout",
          "text": [
            "LightGBM Model Performance:\n",
            "              precision    recall  f1-score   support\n",
            "\n",
            "           0       0.80      0.99      0.89      1125\n",
            "           1       0.31      0.01      0.03       275\n",
            "\n",
            "    accuracy                           0.80      1400\n",
            "   macro avg       0.56      0.50      0.46      1400\n",
            "weighted avg       0.71      0.80      0.72      1400\n",
            "\n",
            "[[1116    9]\n",
            " [ 271    4]]\n"
          ]
        }
      ],
      "source": [
        "from lightgbm import LGBMClassifier\n",
        "from sklearn.model_selection import train_test_split\n",
        "from sklearn.metrics import classification_report, confusion_matrix, roc_curve, roc_auc_score\n",
        "import matplotlib.pyplot as plt\n",
        "import numpy as np\n",
        "\n",
        "# 데이터 분할 (이미 수행했다면 이 단계는 건너뛰세요)\n",
        "#X_train, X_test, y_train, y_test = train_test_split(X, y, test_size=0.2, random_state=42)\n",
        "\n",
        "# LightGBM 모델 생성\n",
        "lgbm_model = LGBMClassifier(n_estimators=100 , random_state=42)\n",
        "\n",
        "# 모델 학습\n",
        "lgbm_model.fit(X_train_scaled, y_train)\n",
        "\n",
        "# 예측\n",
        "y_pred_lgbm = lgbm_model.predict(X_test_scaled)\n",
        "\n",
        "# ROC Curve\n",
        "y_pred_proba_lgbm = lgbm_model.predict_proba(X_test_scaled)[:, 1]  # 클래스 확률\n",
        "fpr, tpr, _ = roc_curve(y_test, y_pred_proba_lgbm)\n",
        "roc_auc = roc_auc_score(y_test, y_pred_proba_lgbm)\n",
        "\n",
        "plt.figure(figsize=(10, 5))\n",
        "plt.subplot(1, 2, 1) #사이즈 줄임\n",
        "plt.plot(fpr, tpr, color='blue', label=f'ROC Curve (AUC = {roc_auc:.2f})')\n",
        "plt.plot([0, 1], [0, 1], color='gray', linestyle='--')  # 대각선\n",
        "plt.title(\"ROC Curve\")\n",
        "plt.xlabel(\"False Positive Rate\")\n",
        "plt.ylabel(\"True Positive Rate\")\n",
        "plt.legend(loc=\"lower right\")\n",
        "plt.show()\n",
        "\n",
        "# 모델 평가\n",
        "print(\"LightGBM Model Performance:\")\n",
        "print(classification_report(y_test, y_pred_lgbm))\n",
        "print(confusion_matrix(y_test, y_pred_lgbm))"
      ]
    },
    {
      "cell_type": "markdown",
      "source": [
        "**DecisionTree**"
      ],
      "metadata": {
        "id": "DT0Q-cifwVEg"
      }
    },
    {
      "cell_type": "code",
      "source": [
        "from sklearn.tree import DecisionTreeClassifier\n",
        "from sklearn.model_selection import GridSearchCV\n",
        "from sklearn.metrics import classification_report, confusion_matrix\n",
        "import matplotlib.pyplot as plt\n",
        "import numpy as np\n",
        "\n",
        "# 알고리즘\n",
        "dtree = DecisionTreeClassifier()\n",
        "\n",
        "dtree_param_grid={\n",
        "    'max_depth' : [1,2,3],\n",
        "    'min_samples_split' : [2,3,4],\n",
        "\n",
        "}\n",
        "\n",
        "grid_dtree= GridSearchCV(dtree, param_grid=dtree_param_grid ,cv=5, refit=True)\n",
        "\n",
        "grid_dtree.fit(X_train_scaled, y_train)\n",
        "\n",
        "print(\"Best parameters:\", grid_dtree.best_params_)\n",
        "print(\"Best cross-validation score:\", grid_dtree.best_score_)\n",
        "\n",
        "# 최적의 모델로 예측\n",
        "best_model = grid_dtree.best_estimator_\n",
        "y_pred_xgb = best_model.predict(X_test_scaled)\n",
        "\n",
        "print(\"Accuracy Score:\", accuracy_score(y_test, y_pred_xgb))"
      ],
      "metadata": {
        "id": "5kJt1NIHwY7w",
        "colab": {
          "base_uri": "https://localhost:8080/"
        },
        "outputId": "d4097558-a4fa-4cee-e670-8e193b72092a"
      },
      "execution_count": null,
      "outputs": [
        {
          "output_type": "stream",
          "name": "stdout",
          "text": [
            "Best parameters: {'max_depth': 1, 'min_samples_split': 2}\n",
            "Best cross-validation score: 0.8028571428571428\n",
            "Accuracy Score: 0.8035714285714286\n"
          ]
        }
      ]
    },
    {
      "cell_type": "code",
      "source": [
        "#decision tree 수정1\n",
        "\n",
        "from sklearn.tree import DecisionTreeClassifier\n",
        "from sklearn.model_selection import GridSearchCV\n",
        "from sklearn.metrics import classification_report, confusion_matrix\n",
        "import matplotlib.pyplot as plt\n",
        "import numpy as np\n",
        "\n",
        "# 알고리즘\n",
        "dtree = DecisionTreeClassifier()\n",
        "\n",
        "dtree_param_grid={\n",
        "    'max_depth' : [0.1, 0.5, 1, 2],\n",
        "    'min_samples_split': [0.1, 2, 5],\n",
        "\n",
        "}\n",
        "\n",
        "grid_dtree= GridSearchCV(dtree, param_grid=dtree_param_grid ,cv=5, refit=True)\n",
        "\n",
        "grid_dtree.fit(X_train_scaled, y_train)\n",
        "\n",
        "print(\"Best parameters:\", grid_dtree.best_params_)\n",
        "print(\"Best cross-validation score:\", grid_dtree.best_score_)\n",
        "\n",
        "# 최적의 모델로 예측\n",
        "best_model = grid_dtree.best_estimator_\n",
        "y_pred_dtree = best_model.predict(X_test_scaled)\n",
        "\n",
        "print(\"Accuracy Score:\", accuracy_score(y_test, y_pred_dtree))"
      ],
      "metadata": {
        "colab": {
          "base_uri": "https://localhost:8080/"
        },
        "id": "qqpVYwWG_tiS",
        "outputId": "96e85f9b-05f4-4cd4-d2c4-736618a44214"
      },
      "execution_count": null,
      "outputs": [
        {
          "output_type": "stream",
          "name": "stdout",
          "text": [
            "Best parameters: {'max_depth': 1, 'min_samples_split': 0.1}\n",
            "Best cross-validation score: 0.8028571428571428\n",
            "Accuracy Score: 0.8035714285714286\n"
          ]
        }
      ]
    },
    {
      "cell_type": "code",
      "source": [
        "#decision tree 수정2\n",
        "from sklearn.tree import DecisionTreeClassifier\n",
        "#from sklearn.model_selection import GridSearchCV\n",
        "from sklearn.metrics import classification_report, confusion_matrix\n",
        "import matplotlib.pyplot as plt\n",
        "import numpy as np\n",
        "\n",
        "# 알고리즘\n",
        "dtree = DecisionTreeClassifier(max_depth=1, random_state=42)\n",
        "\n",
        "dtree.fit(X_train_scaled, y_train)\n",
        "\n",
        "pred = dtree.predict(X_test_scaled)\n",
        "accuracy = accuracy_score(y_test, pred)\n",
        "print('예측 정확도 : ' + str(accuracy))\n",
        "\n"
      ],
      "metadata": {
        "colab": {
          "base_uri": "https://localhost:8080/"
        },
        "id": "-uYVQ9dmG6n4",
        "outputId": "f0a1e0a4-84fa-4bf8-baa3-95491e755a31"
      },
      "execution_count": null,
      "outputs": [
        {
          "output_type": "stream",
          "name": "stdout",
          "text": [
            "예측 정확도 : 0.8035714285714286\n"
          ]
        }
      ]
    },
    {
      "cell_type": "code",
      "source": [
        "#decision tree 수정3\n",
        "from sklearn.tree import DecisionTreeClassifier\n",
        "#from sklearn.model_selection import GridSearchCV\n",
        "from sklearn.metrics import classification_report, confusion_matrix\n",
        "import matplotlib.pyplot as plt\n",
        "import numpy as np\n",
        "\n",
        "# 알고리즘\n",
        "dtree = DecisionTreeClassifier(max_depth=1, random_state=100)\n",
        "\n",
        "dtree.fit(X_train_scaled, y_train)\n",
        "\n",
        "pred = dtree.predict(X_test_scaled)\n",
        "accuracy = accuracy_score(y_test, pred)\n",
        "print('예측 정확도 : ' + str(accuracy))\n",
        "\n"
      ],
      "metadata": {
        "colab": {
          "base_uri": "https://localhost:8080/"
        },
        "id": "a7aW7uNgJLcn",
        "outputId": "e32b2d8f-9bc7-4c68-ef39-c510c7dfa744"
      },
      "execution_count": null,
      "outputs": [
        {
          "output_type": "stream",
          "name": "stdout",
          "text": [
            "예측 정확도 : 0.8035714285714286\n"
          ]
        }
      ]
    },
    {
      "cell_type": "code",
      "source": [
        "#decision tree 수정3\n",
        "from sklearn.tree import DecisionTreeClassifier\n",
        "from sklearn.model_selection import GridSearchCV\n",
        "from sklearn.metrics import classification_report, confusion_matrix, roc_curve, roc_auc_score\n",
        "import matplotlib.pyplot as plt\n",
        "import numpy as np\n",
        "\n",
        "# 알고리즘\n",
        "dtree = DecisionTreeClassifier(max_depth=1, random_state=100)\n",
        "\n",
        "dtree_param_grid={\n",
        "    'max_depth' : [3,5,7,10,None],\n",
        "    'min_samples_split': [1,2,4,8],\n",
        "    'min_samples_leaf': [10,20]\n",
        "\n",
        "}\n",
        "\n",
        "grid_dtree= GridSearchCV(dtree, param_grid=dtree_param_grid ,cv=5, scoring='accuracy')\n",
        "\n",
        "grid_dtree.fit(X_train_scaled, y_train)\n",
        "\n",
        "print(\"Best parameters:\", grid_dtree.best_params_)\n",
        "print(\"Best cross-validation score:\", grid_dtree.best_score_)\n",
        "\n",
        "# 최적의 모델로 예측\n",
        "best_model = grid_dtree.best_estimator_\n",
        "y_pred_dtree = best_model.predict(X_test_scaled)\n",
        "\n",
        "# ROC Curve\n",
        "y_prob_lr = grid_dtree.predict_proba(X_test_scaled)[:, 1]  # 클래스 확률\n",
        "fpr, tpr, _ = roc_curve(y_test, y_prob_lr)\n",
        "roc_auc = roc_auc_score(y_test, y_prob_lr)\n",
        "\n",
        "plt.figure(figsize=(10, 5))\n",
        "plt.subplot(1, 2, 1)\n",
        "plt.plot(fpr, tpr, color='blue', label=f'ROC Curve (AUC = {roc_auc:.2f})')\n",
        "plt.plot([0, 1], [0, 1], color='gray', linestyle='--')  # 대각선\n",
        "plt.title(\"ROC Curve\")\n",
        "plt.xlabel(\"False Positive Rate\")\n",
        "plt.ylabel(\"True Positive Rate\")\n",
        "plt.legend(loc=\"lower right\")\n",
        "\n",
        "print(\"Accuracy Score:\", accuracy_score(y_test, y_pred_dtree))\n",
        "\n"
      ],
      "metadata": {
        "colab": {
          "base_uri": "https://localhost:8080/",
          "height": 541
        },
        "id": "0la2xYRJKhZs",
        "outputId": "4c2848a9-6ace-40ed-a653-23f38fa7b61d"
      },
      "execution_count": null,
      "outputs": [
        {
          "output_type": "stream",
          "name": "stdout",
          "text": [
            "Best parameters: {'max_depth': 3, 'min_samples_leaf': 20, 'min_samples_split': 2}\n",
            "Best cross-validation score: 0.8028571428571428\n",
            "Accuracy Score: 0.8035714285714286\n"
          ]
        },
        {
          "output_type": "display_data",
          "data": {
            "text/plain": [
              "<Figure size 1000x500 with 1 Axes>"
            ],
            "image/png": "[encoded data removed]"
          },
          "metadata": {}
        }
      ]
    },
    {
      "cell_type": "code",
      "source": [
        "#decision tree 수정3\n",
        "from sklearn.tree import DecisionTreeClassifier\n",
        "#from sklearn.model_selection import GridSearchCV\n",
        "from sklearn.metrics import classification_report, confusion_matrix, roc_curve, roc_auc_score\n",
        "import matplotlib.pyplot as plt\n",
        "import numpy as np\n",
        "\n",
        "\n",
        "# 알고리즘\n",
        "dtree = DecisionTreeClassifier(max_depth=5,\n",
        "                               min_samples_leaf=10,\n",
        "                               min_samples_split=2,\n",
        "                               random_state=100)\n",
        "\n",
        "\n",
        "dtree.fit(X_train_scaled, y_train)\n",
        "\n",
        "# 예측\n",
        "y_pred = rf_model.predict(X_test_scaled)\n",
        "\n",
        "\n",
        "# ROC Curve\n",
        "y_prob_lr = dtree.predict_proba(X_test_scaled)[:, 1]  # 클래스 확률\n",
        "fpr, tpr, _ = roc_curve(y_test, y_pred)\n",
        "roc_auc = roc_auc_score(y_test, y_pred)\n",
        "\n",
        "plt.figure(figsize=(10, 5))\n",
        "plt.subplot(1, 2, 1)\n",
        "plt.plot(fpr, tpr, color='blue', label=f'ROC Curve (AUC = {roc_auc:.2f})')\n",
        "plt.plot([0, 1], [0, 1], color='gray', linestyle='--')  # 대각선\n",
        "plt.title(\"ROC Curve\")\n",
        "plt.xlabel(\"False Positive Rate\")\n",
        "plt.ylabel(\"True Positive Rate\")\n",
        "plt.legend(loc=\"lower right\")\n",
        "\n",
        "print(\"Accuracy Score:\", accuracy_score(y_test, y_pred_dtree))\n",
        "\n"
      ],
      "metadata": {
        "id": "TJl_VKrUHrWj",
        "colab": {
          "base_uri": "https://localhost:8080/",
          "height": 505
        },
        "outputId": "e7d7da16-49f9-4e77-82d8-19da9fa0d365"
      },
      "execution_count": null,
      "outputs": [
        {
          "output_type": "stream",
          "name": "stdout",
          "text": [
            "Accuracy Score: 0.8035714285714286\n"
          ]
        },
        {
          "output_type": "display_data",
          "data": {
            "text/plain": [
              "<Figure size 1000x500 with 1 Axes>"
            ],
            "image/png": "[encoded data removed]"
          },
          "metadata": {}
        }
      ]
    },
    {
      "cell_type": "markdown",
      "source": [
        "**Logistic Regression**"
      ],
      "metadata": {
        "id": "ykBe5Z3R6wTy"
      }
    },
    {
      "cell_type": "code",
      "source": [
        "from sklearn.linear_model import LogisticRegression\n",
        "from sklearn.metrics import classification_report, confusion_matrix\n",
        "import matplotlib.pyplot as plt\n",
        "import numpy as np\n",
        "\n",
        "# 로지스틱 회귀 모델 생성\n",
        "lr_model = LogisticRegression(random_state=42)\n",
        "\n",
        "#try1\n",
        "lr_params = {\n",
        "    'c' : [0.001, 0.01, 0.1, 1, 10, 100],\n",
        "    'penalty' : ['l1', 'l2'],\n",
        "    'class_weight': [None, 'balanced'],\n",
        "    'max_iter': [50, 150, 200]\n",
        "}\n",
        "\n",
        "grid_lr = GridSearchCV(lr_model, param_grid=lr_params, cv=5, scoring='accuracy')\n",
        "\n",
        "# 모델 학습\n",
        "grid_lr.fit(X_train_scaled, y_train)\n",
        "\n",
        "#print(\"Best parameters:\", grid_lr.best_params_)\n",
        "#print(\"Best cross-validation score:\", grid_lr.best_score_)\n",
        "\n",
        "# 예측\n",
        "best_model = grid_lr.best_estimator_\n",
        "y_pred_lr = best_model.predict(X_test_scaled)\n",
        "\n",
        "print(\"Accuracy Score:\", accuracy_score(y_test, y_pred_lr))\n"
      ],
      "metadata": {
        "colab": {
          "base_uri": "https://localhost:8080/"
        },
        "id": "sRgJKwCR6pq3",
        "outputId": "e2d692d0-4032-49e1-e4e7-93b2d43fde3c"
      },
      "execution_count": null,
      "outputs": [
        {
          "output_type": "stream",
          "name": "stdout",
          "text": [
            "Accuracy Score: 0.8035714285714286\n"
          ]
        }
      ]
    },
    {
      "cell_type": "code",
      "source": [
        "from sklearn.linear_model import LogisticRegression\n",
        "from sklearn.model_selection import GridSearchCV\n",
        "from sklearn.metrics import classification_report, confusion_matrix\n",
        "import matplotlib.pyplot as plt\n",
        "import numpy as np\n",
        "\n",
        "# 로지스틱 회귀 모델 생성\n",
        "lr_model = LogisticRegression(random_state=42)\n",
        "\n",
        "#try2\n",
        "lr_params = {\n",
        "    'c' : [0.05, 0.1, 1.5, 2.0],\n",
        "    'penalty' : ['l1', 'l2'],\n",
        "    'class_weight': [None, 'balanced'],\n",
        "    'max_iter': [150, 300, 500]\n",
        "}\n",
        "\n",
        "grid_lr = GridSearchCV(lr_model, param_grid=lr_params, cv=5, scoring='accuracy')\n",
        "\n",
        "# 모델 학습\n",
        "grid_lr.fit(X_train_scaled, y_train)\n",
        "\n",
        "#print(\"Best parameters:\", grid_lr.best_params_)\n",
        "#print(\"Best cross-validation score:\", grid_lr.best_score_)\n",
        "\n",
        "# 예측\n",
        "best_model = grid_lr.best_estimator_\n",
        "y_pred_lr = best_model.predict(X_test_scaled)\n",
        "\n",
        "print(\"Accuracy Score:\", accuracy_score(y_test, y_pred_lr))\n"
      ],
      "metadata": {
        "id": "WPKaVYXn6pa5",
        "colab": {
          "base_uri": "https://localhost:8080/"
        },
        "outputId": "2a38d514-580e-44a1-b63c-cc6d2f635078"
      },
      "execution_count": null,
      "outputs": [
        {
          "output_type": "stream",
          "name": "stdout",
          "text": [
            "Accuracy Score: 0.8035714285714286\n"
          ]
        }
      ]
    },
    {
      "cell_type": "code",
      "source": [
        "from sklearn.linear_model import LogisticRegression\n",
        "from sklearn.metrics import classification_report, confusion_matrix, accuracy_score,  ConfusionMatrixDisplay\n",
        "import matplotlib.pyplot as plt\n",
        "import numpy as np\n",
        "\n",
        "#GridSearchCV X\n",
        "lr = LogisticRegression(solver='liblinear', random_state=42)\n",
        "lr.fit(X_train_scaled, y_train)\n",
        "y_pred_lr = lr.predict(X_test_scaled)\n",
        "\n",
        "# Confusion Matrix 생성 및 시각화\n",
        "conf_matrix = confusion_matrix(y_test, y_pred_lr)\n",
        "\n",
        "disp = ConfusionMatrixDisplay(confusion_matrix=conf_matrix, display_labels=np.unique(y_test))\n",
        "disp.plot(cmap=plt.cm.Blues)  # 시각화 스타일 선택\n",
        "plt.title(\"Confusion Matrix\")\n",
        "plt.show()\n",
        "\n",
        "# accuracy 구하기\n",
        "print(\"accuracy : \", accuracy_score(y_test, y_pred_lr))"
      ],
      "metadata": {
        "colab": {
          "base_uri": "https://localhost:8080/",
          "height": 490
        },
        "id": "QSOSrNXtJWUM",
        "outputId": "26d3a510-d964-440d-fe62-b19a17389e6d"
      },
      "execution_count": null,
      "outputs": [
        {
          "output_type": "display_data",
          "data": {
            "text/plain": [
              "<Figure size 640x480 with 2 Axes>"
            ],
            "image/png": "[encoded data removed]"
          },
          "metadata": {}
        },
        {
          "output_type": "stream",
          "name": "stdout",
          "text": [
            "accuracy :  0.8035714285714286\n"
          ]
        }
      ]
    },
    {
      "cell_type": "markdown",
      "source": [
        "▲ We don't really know why the Confusion Matrix is like this.. so We want a lot of advice"
      ],
      "metadata": {
        "id": "VCB8WXO-d73L"
      }
    },
    {
      "cell_type": "code",
      "source": [
        "from sklearn.linear_model import LogisticRegression\n",
        "from sklearn.metrics import classification_report, confusion_matrix, accuracy_score,  ConfusionMatrixDisplay, roc_curve, roc_auc_score\n",
        "import matplotlib.pyplot as plt\n",
        "import numpy as np\n",
        "\n",
        "lr = LogisticRegression(solver='liblinear', random_state=42)\n",
        "lr.fit(X_train_scaled, y_train)\n",
        "\n",
        "y_pred_lr = lr.predict(X_test_scaled)\n",
        "\n",
        "# ROC Curve\n",
        "y_prob_lr = lr.predict_proba(X_test_scaled)[:, 1]  # 클래스 확률\n",
        "fpr, tpr, _ = roc_curve(y_test, y_prob_lr)\n",
        "roc_auc = roc_auc_score(y_test, y_prob_lr)\n",
        "\n",
        "plt.figure(figsize=(10, 5))\n",
        "plt.subplot(1, 2, 1)\n",
        "plt.plot(fpr, tpr, color='blue', label=f'ROC Curve (AUC = {roc_auc:.2f})')\n",
        "plt.plot([0, 1], [0, 1], color='gray', linestyle='--')  # 대각선\n",
        "plt.title(\"ROC Curve\")\n",
        "plt.xlabel(\"False Positive Rate\")\n",
        "plt.ylabel(\"True Positive Rate\")\n",
        "plt.legend(loc=\"lower right\")\n"
      ],
      "metadata": {
        "colab": {
          "base_uri": "https://localhost:8080/",
          "height": 505
        },
        "id": "MXO_ENS8abbQ",
        "outputId": "f63e49be-7783-4d5e-e9d8-3e892fdd3c49"
      },
      "execution_count": null,
      "outputs": [
        {
          "output_type": "execute_result",
          "data": {
            "text/plain": [
              "<matplotlib.legend.Legend at 0x7d3a0a3265f0>"
            ]
          },
          "metadata": {},
          "execution_count": 12
        },
        {
          "output_type": "display_data",
          "data": {
            "text/plain": [
              "<Figure size 1000x500 with 1 Axes>"
            ],
            "image/png": "[encoded data removed]"
          },
          "metadata": {}
        }
      ]
    },
    {
      "cell_type": "code",
      "source": [
        "from sklearn.linear_model import LogisticRegression\n",
        "from sklearn.metrics import classification_report, ConfusionMatrixDisplay, accuracy_score,  ConfusionMatrixDisplay\n",
        "import matplotlib.pyplot as plt\n",
        "import numpy as np\n",
        "\n",
        "model = LogisticRegression(solver='liblinear', random_state=42)\n",
        "model.fit(X_train_scaled, y_train)\n",
        "\n",
        "\n",
        "y_pred_lr = model.predict(X_test_scaled)\n",
        "prob = model.predict_proba(X_test)\n",
        "acc = accuracy_score(y_test, y_pred_lr)\n",
        "print(f'Test Accuracy: {acc * 100:.2f}%')\n",
        "\n",
        "\n",
        "# 1. Confusion Matrix 시각화\n",
        "plt.figure(figsize=(12, 6))\n",
        "plt.subplot(1, 2, 1)\n",
        "ConfusionMatrixDisplay.from_estimator(lr, X_test_scaled, y_test, cmap=plt.cm.Blues)\n",
        "plt.title(\"Confusion Matrix\")\n",
        "\n",
        "\n"
      ],
      "metadata": {
        "colab": {
          "base_uri": "https://localhost:8080/",
          "height": 1000
        },
        "id": "M7DumzCKdAS5",
        "outputId": "612573d6-6a4c-4fca-f0a5-7a831898ed08"
      },
      "execution_count": null,
      "outputs": [
        {
          "output_type": "stream",
          "name": "stdout",
          "text": [
            "Test Accuracy: 80.36%\n"
          ]
        },
        {
          "output_type": "execute_result",
          "data": {
            "text/plain": [
              "Text(0.5, 1.0, 'Confusion Matrix')"
            ]
          },
          "metadata": {},
          "execution_count": 20
        },
        {
          "output_type": "display_data",
          "data": {
            "text/plain": [
              "<Figure size 1200x600 with 1 Axes>"
            ],
            "image/png": "[encoded data removed]"
          },
          "metadata": {}
        },
        {
          "output_type": "display_data",
          "data": {
            "text/plain": [
              "<Figure size 640x480 with 2 Axes>"
            ],
            "image/png": "[encoded data removed]"
          },
          "metadata": {}
        }
      ]
    },
    {
      "cell_type": "code",
      "source": [
        "from sklearn.neighbors import KNeighborsClassifier\n",
        "from sklearn.model_selection import cross_val_score\n",
        "from sklearn.metrics import classification_report, confusion_matrix\n",
        "import matplotlib.pyplot as plt\n",
        "import numpy as np\n",
        "\n",
        "model = KNeighborsClassifier()\n",
        "\n",
        "cv_score = cross_val_score(model, X_train_scaled, y_train, cv=10)\n",
        "print(cv_score)\n",
        "print(cv_score.mean())\n"
      ],
      "metadata": {
        "colab": {
          "base_uri": "https://localhost:8080/"
        },
        "id": "zf--Q7UcGZ1T",
        "outputId": "36312957-c61d-4649-c456-fbe5fd16942a"
      },
      "execution_count": null,
      "outputs": [
        {
          "output_type": "stream",
          "name": "stdout",
          "text": [
            "[0.7625     0.78035714 0.76785714 0.775      0.77857143 0.78035714\n",
            " 0.77857143 0.78035714 0.76964286 0.76964286]\n",
            "0.7742857142857142\n"
          ]
        }
      ]
    },
    {
      "cell_type": "code",
      "source": [
        "import pickle\n",
        "\n",
        "# 모델에 특성 이름 저장 (모델 훈련 후)\n",
        "feature_names = X.columns.tolist()\n",
        "\n",
        "# 모델과 특성 이름을 함께 저장\n",
        "with open('logistic_model.pkl', 'wb') as file:\n",
        "    pickle.dump((model, feature_names), file)\n",
        "\n",
        "# 스케일러 저장\n",
        "with open('lr_scaler.pkl', 'wb') as file:\n",
        "    pickle.dump(scaler, file)\n"
      ],
      "metadata": {
        "id": "ID8rwHD66hKq"
      },
      "execution_count": null,
      "outputs": []
    },
    {
      "cell_type": "code",
      "source": [],
      "metadata": {
        "id": "6t-1QHyN9FJu"
      },
      "execution_count": null,
      "outputs": []
    }
  ],
  "metadata": {
    "colab": {
      "gpuType": "T4",
      "provenance": [],
      "include_colab_link": true
    },
    "kernelspec": {
      "display_name": "Python 3",
      "name": "python3"
    },
    "language_info": {
      "name": "python"
    }
  },
  "nbformat": 4,
  "nbformat_minor": 0
}